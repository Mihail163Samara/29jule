{
  "nbformat": 4,
  "nbformat_minor": 0,
  "metadata": {
    "colab": {
      "provenance": [],
      "toc_visible": true,
      "authorship_tag": "ABX9TyNbKWu2xEMBUaIXByxQzSKo",
      "include_colab_link": true
    },
    "kernelspec": {
      "name": "python3",
      "display_name": "Python 3"
    },
    "language_info": {
      "name": "python"
    }
  },
  "cells": [
    {
      "cell_type": "markdown",
      "metadata": {
        "id": "view-in-github",
        "colab_type": "text"
      },
      "source": [
        "<a href=\"https://colab.research.google.com/github/Mihail163Samara/29jule/blob/main/%D0%A2%D0%B5%D0%BE%D1%80%D0%B8%D1%8F_%D0%B2%D0%B5%D1%80%D0%BE%D1%8F%D1%82%D0%BD%D0%BE%D1%81%D1%82%D0%B8_%D0%B8_%D0%BC%D0%B0%D1%82%D0%B5%D0%BC%D0%B0%D1%82%D0%B8%D1%87%D0%B5%D1%81%D0%BA%D0%B0%D1%8F_%D1%81%D1%82%D0%B0%D1%82%D0%B8%D1%81%D1%82%D0%B8%D0%BA%D0%B0_%D0%94%D0%97_%D1%81%D1%82%D1%83%D0%B4%D0%B5%D0%BD%D1%82_%D0%A3%D0%BC%D0%BD%D0%BE%D0%B2_%D0%9C_%D0%90.ipynb\" target=\"_parent\"><img src=\"https://colab.research.google.com/assets/colab-badge.svg\" alt=\"Open In Colab\"/></a>"
      ]
    },
    {
      "cell_type": "markdown",
      "source": [
        "# ДЗ-3 разведочный анализ или EDA(exploratory data analysis)"
      ],
      "metadata": {
        "id": "3f1F7L2Woya-"
      }
    },
    {
      "cell_type": "markdown",
      "source": [
        "**Текст, выделенный полужирным шрифтом**\n",
        "\n",
        "1.  Даны значения зарплат из выборки выпускников: 100, 80, 75, 77, 89, 33, 45, 25, 65, 17, 30, 24, 57, 55, 70, 75, 65, 84, 90, 150. Посчитать (желательно без использования статистических методов наподобие std, var, mean) среднее арифметическое, среднее квадратичное отклонение, смещенную и несмещенную оценки дисперсий для данной выборки.\n",
        "\n",
        "\n"
      ],
      "metadata": {
        "id": "YC4cYb1mIEfD"
      }
    },
    {
      "cell_type": "code",
      "source": [
        "import numpy as np\n",
        "x = np.array([100,80,75,77,89,33,45,25,65,17,30,24,57,55,70,75,65,84,90,150])\n"
      ],
      "metadata": {
        "id": "mu8ySpmCIJi7"
      },
      "execution_count": null,
      "outputs": []
    },
    {
      "cell_type": "code",
      "source": [
        "# среднее арифметическое\n",
        "np.mean(x)"
      ],
      "metadata": {
        "colab": {
          "base_uri": "https://localhost:8080/"
        },
        "id": "EHnIUZXCNAZd",
        "outputId": "63ea8e91-f164-406c-9bb1-8dbd05ac325c"
      },
      "execution_count": null,
      "outputs": [
        {
          "output_type": "execute_result",
          "data": {
            "text/plain": [
              "65.3"
            ]
          },
          "metadata": {},
          "execution_count": 25
        }
      ]
    },
    {
      "cell_type": "code",
      "source": [
        "# среднее квадратное отклонение\n",
        "np.std(x)"
      ],
      "metadata": {
        "colab": {
          "base_uri": "https://localhost:8080/"
        },
        "id": "4niNMNlGN5QA",
        "outputId": "20ac0004-c06d-471f-d263-4e7ebae55ebb"
      },
      "execution_count": null,
      "outputs": [
        {
          "output_type": "execute_result",
          "data": {
            "text/plain": [
              "30.823854398825596"
            ]
          },
          "metadata": {},
          "execution_count": 31
        }
      ]
    },
    {
      "cell_type": "code",
      "source": [
        "# смещённая дисперсия\n",
        "np.var(x)"
      ],
      "metadata": {
        "colab": {
          "base_uri": "https://localhost:8080/"
        },
        "id": "lXSKI_HJMBFM",
        "outputId": "e0582f47-3e48-4ff2-9b6d-41ac063b203e"
      },
      "execution_count": null,
      "outputs": [
        {
          "output_type": "execute_result",
          "data": {
            "text/plain": [
              "950.11"
            ]
          },
          "metadata": {},
          "execution_count": 23
        }
      ]
    },
    {
      "cell_type": "code",
      "source": [
        "# несмещённая дисперсия\n",
        "np.var(x,ddof=1)"
      ],
      "metadata": {
        "colab": {
          "base_uri": "https://localhost:8080/"
        },
        "id": "uPC42OSeMlTt",
        "outputId": "6e362716-7396-4687-da61-c32943651b37"
      },
      "execution_count": null,
      "outputs": [
        {
          "output_type": "execute_result",
          "data": {
            "text/plain": [
              "1000.1157894736842"
            ]
          },
          "metadata": {},
          "execution_count": 24
        }
      ]
    },
    {
      "cell_type": "markdown",
      "source": [
        "\n",
        "\n",
        "2.В первом ящике находится 8 мячей, из которых 5 - белые. Во втором ящике - 12 мячей, из которых 5 белых. Из первого ящика вытаскивают случайным образом два мяча, из второго - 4. Какова вероятность того, что 3 мяча белые?\n",
        "\n"
      ],
      "metadata": {
        "id": "WY-sRtHLyLFU"
      }
    },
    {
      "cell_type": "code",
      "source": [
        "from math import comb\n",
        "# первый ящик варианты A=(б,б); B=(б,ч); C=(ч,ч)\n",
        "\n",
        "A = comb(5, 2) / comb(8, 2)\n",
        "B = (comb(5, 1) * comb(3, 1)) / comb(8, 2)\n",
        "C = comb(3, 2)  / comb(8, 2)\n",
        "# второй ящик варианты А_1 = (б,ч,ч,ч); B_1 = (б,б,ч,ч); C_1 = (б,б,б,ч)\n",
        "A_1 = (comb(5, 1) * comb(7, 3)) / comb(12, 4)\n",
        "B_1 = (comb(5, 2) * comb(7, 2)) / comb(12, 4)\n",
        "C_1 = (comb(5, 3) * comb(7, 1)) / comb(12, 4)\n",
        "# Вероятность 3-х белых мячей P_white_boll\n",
        "P_white_boll = A * A_1 + B * B_1 + C * C_1\n",
        "print(f\"Вероятность достать 3 белых мяча {P_white_boll*100:.1f}%\")"
      ],
      "metadata": {
        "colab": {
          "base_uri": "https://localhost:8080/"
        },
        "id": "2lotj_AngyEB",
        "outputId": "dfd61fca-5291-4d32-a6a4-1f71f6dee483"
      },
      "execution_count": null,
      "outputs": [
        {
          "output_type": "stream",
          "name": "stdout",
          "text": [
            "Вероятность достать 3 белых мяча 36.9%\n"
          ]
        }
      ]
    },
    {
      "cell_type": "markdown",
      "source": [
        "\n",
        "\n",
        "\n",
        "3.На соревновании по биатлону один из трех спортсменов стреляет и попадает в мишень. Вероятность попадания для первого спортсмена равна 0.9, для второго — 0.8, для третьего — 0.6. Найти вероятность того, что выстрел произведен: a). первым спортсменом б). вторым спортсменом в). третьим спортсменом.\n",
        "\n"
      ],
      "metadata": {
        "id": "h6SBtoM1t9_h"
      }
    },
    {
      "cell_type": "code",
      "source": [
        "P_MEN_1 = 0.9\n",
        "P_MEN_2 = 0.8\n",
        "P_MEN_3 = 0.6\n",
        "\n",
        "P_1 = P_2 = P_3 = 1/3\n",
        "\n",
        "# Общее число исходов\n",
        "P = P_MEN_1 * P_1 + P_MEN_2 * P_2 + P_MEN_3 * P_3\n",
        "P"
      ],
      "metadata": {
        "colab": {
          "base_uri": "https://localhost:8080/"
        },
        "id": "mhAByjHuuK5Y",
        "outputId": "c301136d-cec3-42db-d0f2-7b5b6b1a5c17"
      },
      "execution_count": null,
      "outputs": [
        {
          "output_type": "execute_result",
          "data": {
            "text/plain": [
              "0.7666666666666666"
            ]
          },
          "metadata": {},
          "execution_count": 3
        }
      ]
    },
    {
      "cell_type": "code",
      "source": [
        "# Вероятность попадания P_MEN_1\n",
        "P_the_first_shooter_one = (P_MEN_1 * P_1)/P\n",
        "P_the_first_shooter_one * 100"
      ],
      "metadata": {
        "colab": {
          "base_uri": "https://localhost:8080/"
        },
        "id": "FNIufS8fGpTb",
        "outputId": "53cfdbf6-7eb9-447f-a0bb-f0d8379514f0"
      },
      "execution_count": null,
      "outputs": [
        {
          "output_type": "execute_result",
          "data": {
            "text/plain": [
              "39.130434782608695"
            ]
          },
          "metadata": {},
          "execution_count": 16
        }
      ]
    },
    {
      "cell_type": "code",
      "source": [
        "# Вероятность попадания P_MEN_2\n",
        "P_the_second_shooter_two = (P_MEN_2 * P_2)/P\n",
        "P_the_second_shooter_two * 100"
      ],
      "metadata": {
        "colab": {
          "base_uri": "https://localhost:8080/"
        },
        "id": "hD5eLuOQIIF4",
        "outputId": "05c7d579-1e46-41bd-9ecb-f7ccfe385c08"
      },
      "execution_count": null,
      "outputs": [
        {
          "output_type": "execute_result",
          "data": {
            "text/plain": [
              "34.78260869565218"
            ]
          },
          "metadata": {},
          "execution_count": 17
        }
      ]
    },
    {
      "cell_type": "code",
      "source": [
        "# Вероятность попадания P_MEN_3\n",
        "P_the_third_shooter_three = (P_MEN_3 * P_3)/P\n",
        "P_the_third_shooter_three * 100"
      ],
      "metadata": {
        "colab": {
          "base_uri": "https://localhost:8080/"
        },
        "id": "YqegGncXIey7",
        "outputId": "a35a74de-71cd-4fbf-fd67-5fdb573dc489"
      },
      "execution_count": null,
      "outputs": [
        {
          "output_type": "execute_result",
          "data": {
            "text/plain": [
              "26.08695652173913"
            ]
          },
          "metadata": {},
          "execution_count": 18
        }
      ]
    },
    {
      "cell_type": "markdown",
      "source": [
        "\n",
        "\n",
        "4.\tВ университет на факультеты A и B поступило равное количество студентов, а на факультет C студентов поступило столько же, сколько на A и B вместе. Вероятность того, что студент факультета A сдаст первую сессию, равна 0.8. Для студента факультета B эта вероятность равна 0.7, а для студента факультета C - 0.9. Студент сдал первую сессию. Какова вероятность, что он учится: a). на факультете A б). на факультете B в). на факультете C?\n",
        "\n"
      ],
      "metadata": {
        "id": "GUbyAHxVJA-Y"
      }
    },
    {
      "cell_type": "code",
      "source": [
        "\n",
        "# Вероятность событий\n",
        "P_A = 0.25\n",
        "P_B = 0.25\n",
        "P_C = 0.5\n",
        "\n",
        "# Вероятность сдачи сессии\n",
        "P_1_A = 0.8\n",
        "P_2_B = 0.7\n",
        "P_3_C = 0.9\n",
        "# Общая вероятность что студент сдаст сессию\n",
        "P = P_A * P_1_A + P_B * P_2_B + P_C * P_3_C\n",
        "P\n",
        "\n",
        "\n"
      ],
      "metadata": {
        "colab": {
          "base_uri": "https://localhost:8080/"
        },
        "id": "viw2d20zPisK",
        "outputId": "beec8bbd-77e7-4c1d-8d49-2dcff1fc3078"
      },
      "execution_count": null,
      "outputs": [
        {
          "output_type": "execute_result",
          "data": {
            "text/plain": [
              "0.825"
            ]
          },
          "metadata": {},
          "execution_count": 22
        }
      ]
    },
    {
      "cell_type": "code",
      "source": [
        "# Вероятность того, что студент учиться на факультете A\n",
        "P_student_of_the_faculty_A  = P_1_A * P_A/P\n",
        "P_student_of_the_faculty_A * 100"
      ],
      "metadata": {
        "colab": {
          "base_uri": "https://localhost:8080/"
        },
        "id": "NTWieBlXRmwY",
        "outputId": "2fdca096-b075-464d-b56c-bae3860ad4d1"
      },
      "execution_count": null,
      "outputs": [
        {
          "output_type": "execute_result",
          "data": {
            "text/plain": [
              "24.242424242424246"
            ]
          },
          "metadata": {},
          "execution_count": 23
        }
      ]
    },
    {
      "cell_type": "code",
      "source": [
        "# Вероятность того, что студент учиться на факультете B\n",
        "P_student_of_the_faculty_B  = P_2_B * P_B/P\n",
        "P_student_of_the_faculty_B * 100"
      ],
      "metadata": {
        "colab": {
          "base_uri": "https://localhost:8080/"
        },
        "id": "0nUGcA4XSdTQ",
        "outputId": "d1157cff-e0dd-49de-cee1-3b20a858f247"
      },
      "execution_count": null,
      "outputs": [
        {
          "output_type": "execute_result",
          "data": {
            "text/plain": [
              "21.21212121212121"
            ]
          },
          "metadata": {},
          "execution_count": 25
        }
      ]
    },
    {
      "cell_type": "code",
      "source": [
        "# Вероятность того, что студент учиться на факультете C\n",
        "P_student_of_the_faculty_C  = P_3_C * P_C/P\n",
        "P_student_of_the_faculty_C * 100"
      ],
      "metadata": {
        "colab": {
          "base_uri": "https://localhost:8080/"
        },
        "id": "5m_DNHtnSlzE",
        "outputId": "1a3a1759-cc63-492d-e651-6564654ec7a7"
      },
      "execution_count": null,
      "outputs": [
        {
          "output_type": "execute_result",
          "data": {
            "text/plain": [
              "54.545454545454554"
            ]
          },
          "metadata": {},
          "execution_count": 27
        }
      ]
    },
    {
      "cell_type": "markdown",
      "source": [
        "5.\tУстройство состоит из трех деталей. Для первой детали вероятность выйти из строя в первый месяц равна 0.1, для второй - 0.2, для третьей - 0.25. Какова вероятность того, что в первый месяц выйдут из строя: а). все детали б). только две детали в). хотя бы одна деталь г). от одной до двух деталей?"
      ],
      "metadata": {
        "id": "0HI-oczMS8nW"
      }
    },
    {
      "cell_type": "code",
      "source": [
        "# Вероятность выхода из строя деталей\n",
        "P_1 = 0.1\n",
        "P_2 = 0.2\n",
        "P_3 = 0.25\n"
      ],
      "metadata": {
        "colab": {
          "base_uri": "https://localhost:8080/"
        },
        "id": "EmBz9NgsTCK8",
        "outputId": "dabd7116-4007-4b69-f6a9-5a551cef691d"
      },
      "execution_count": null,
      "outputs": [
        {
          "output_type": "execute_result",
          "data": {
            "text/plain": [
              "0.5000000000000001"
            ]
          },
          "metadata": {},
          "execution_count": 28
        }
      ]
    },
    {
      "cell_type": "code",
      "source": [
        "# Вероятности не выйти из строя\n",
        "P_will_not_fail_1 = 1 - P_1\n",
        "P_will_not_fail_2 = 1 - P_2\n",
        "P_will_not_fail_3 = 1 - P_3\n",
        "print(P_will_not_fail_1,\n",
        "P_will_not_fail_2,\n",
        "P_will_not_fail_3)"
      ],
      "metadata": {
        "colab": {
          "base_uri": "https://localhost:8080/"
        },
        "id": "Mlp9TymFUkDT",
        "outputId": "069ad32a-d2e0-4f6c-e815-8b9f1b1e99be"
      },
      "execution_count": null,
      "outputs": [
        {
          "output_type": "stream",
          "name": "stdout",
          "text": [
            "0.9 0.8 0.75\n"
          ]
        }
      ]
    },
    {
      "cell_type": "code",
      "source": [
        "# Вероятность выхода из строя всех деталей\n",
        "P = P_1 * P_2 * P_3\n",
        "P * 100"
      ],
      "metadata": {
        "colab": {
          "base_uri": "https://localhost:8080/"
        },
        "id": "75kUdVHpc44n",
        "outputId": "4678d4d3-e166-4f68-a85f-ee8340a01319"
      },
      "execution_count": null,
      "outputs": [
        {
          "output_type": "execute_result",
          "data": {
            "text/plain": [
              "0.5000000000000001"
            ]
          },
          "metadata": {},
          "execution_count": 41
        }
      ]
    },
    {
      "cell_type": "code",
      "source": [
        "#Вероятность выхода из стория только двух деталей\n"
      ],
      "metadata": {
        "id": "HPb4TE5jb9uq"
      },
      "execution_count": null,
      "outputs": []
    },
    {
      "cell_type": "code",
      "source": [
        "P_two_will_fail = (P_1 * P_2 * P_will_not_fail_3) + (P_1 * P_will_not_fail_2 * P_3) + (P_will_not_fail_1 * P_2 * P_3)\n",
        "P_two_will_fail * 100"
      ],
      "metadata": {
        "colab": {
          "base_uri": "https://localhost:8080/"
        },
        "id": "-DFroOqfc7P3",
        "outputId": "9e773e80-d7c7-4451-fd65-3ddc02837c62"
      },
      "execution_count": null,
      "outputs": [
        {
          "output_type": "execute_result",
          "data": {
            "text/plain": [
              "8.000000000000002"
            ]
          },
          "metadata": {},
          "execution_count": 43
        }
      ]
    },
    {
      "cell_type": "code",
      "source": [
        "#Вероятность выхода из стория хотябы одной детали\n",
        "P_one_will_fail = 1 - (P_will_not_fail_1 * P_will_not_fail_2 * P_will_not_fail_3)\n",
        "P_one_will_fail * 100"
      ],
      "metadata": {
        "colab": {
          "base_uri": "https://localhost:8080/"
        },
        "id": "Ba5HS0H1Xev3",
        "outputId": "13b43011-1ff5-4cfb-9788-4a853ba3e28b"
      },
      "execution_count": null,
      "outputs": [
        {
          "output_type": "execute_result",
          "data": {
            "text/plain": [
              "46.0"
            ]
          },
          "metadata": {},
          "execution_count": 40
        }
      ]
    },
    {
      "cell_type": "code",
      "source": [
        "# Вероятность выхода из строя от одной до двух деталей составляет\n",
        "it_will_fail_from_1_to_2 = P_two_will_fail + (P_1 * P_will_not_fail_2 * P_will_not_fail_3) + (P_will_not_fail_1 * P_2 *  P_will_not_fail_3) + (P_will_not_fail_1 * P_will_not_fail_2 * P_3)\n",
        "it_will_fail_from_1_to_2 * 100\n"
      ],
      "metadata": {
        "colab": {
          "base_uri": "https://localhost:8080/"
        },
        "id": "U7K3f1wCeQY9",
        "outputId": "c0a20b88-5146-4c35-d14d-5ae88168f994"
      },
      "execution_count": null,
      "outputs": [
        {
          "output_type": "execute_result",
          "data": {
            "text/plain": [
              "45.50000000000001"
            ]
          },
          "metadata": {},
          "execution_count": 49
        }
      ]
    },
    {
      "cell_type": "markdown",
      "source": [
        "# ДЗ-4 непрерывная случайная величина"
      ],
      "metadata": {
        "id": "0GgjiMaeocIF"
      }
    },
    {
      "cell_type": "markdown",
      "source": [
        "1.Случайная непрерывная величина A имеет равномерное распределение на промежутке (200, 800]. Найдите ее среднее значение и дисперсию."
      ],
      "metadata": {
        "id": "YIGLHMw-oq_V"
      }
    },
    {
      "cell_type": "code",
      "source": [
        "a = 200\n",
        "b = 800\n",
        "\n",
        "# среднее значение\n",
        "M = (a+b)/2\n",
        "M"
      ],
      "metadata": {
        "colab": {
          "base_uri": "https://localhost:8080/"
        },
        "id": "Lzn0UFQZpTlW",
        "outputId": "6d310a39-9475-459a-c77c-23692807404d"
      },
      "execution_count": null,
      "outputs": [
        {
          "output_type": "execute_result",
          "data": {
            "text/plain": [
              "500.0"
            ]
          },
          "metadata": {},
          "execution_count": 2
        }
      ]
    },
    {
      "cell_type": "code",
      "source": [
        "# дисперсия\n",
        "D = (b-a)**2/12\n",
        "D"
      ],
      "metadata": {
        "colab": {
          "base_uri": "https://localhost:8080/"
        },
        "id": "JVqs-5iLqA6v",
        "outputId": "8fc0d102-51f7-4b78-8e2c-236d8aa7b6d3"
      },
      "execution_count": null,
      "outputs": [
        {
          "output_type": "execute_result",
          "data": {
            "text/plain": [
              "30000.0"
            ]
          },
          "metadata": {},
          "execution_count": 3
        }
      ]
    },
    {
      "cell_type": "markdown",
      "source": [
        "2.О случайной непрерывной равномерно распределенной величине B известно, что ее дисперсия равна 0.2. Можно ли найти правую границу величины B и ее среднее значение зная, что левая граница равна 0.5? Если да, найдите ее.\n",
        "\n"
      ],
      "metadata": {
        "id": "40PvORjrqR4A"
      }
    },
    {
      "cell_type": "code",
      "source": [
        "import math\n",
        "\n",
        "D = 0.2\n",
        "a = 0.5\n",
        "# находим правую границу\n",
        "b = a + math.sqrt(12 * D)\n",
        "b"
      ],
      "metadata": {
        "colab": {
          "base_uri": "https://localhost:8080/"
        },
        "id": "R9ykS5BVqaSp",
        "outputId": "70b104a2-7fab-4367-ce7f-5d07f9714b5c"
      },
      "execution_count": null,
      "outputs": [
        {
          "output_type": "execute_result",
          "data": {
            "text/plain": [
              "2.049193338482967"
            ]
          },
          "metadata": {},
          "execution_count": 7
        }
      ]
    },
    {
      "cell_type": "code",
      "source": [
        "# находим среднее значение\n",
        "M = (a + b)/2\n",
        "M"
      ],
      "metadata": {
        "colab": {
          "base_uri": "https://localhost:8080/"
        },
        "id": "CxcIefRds7pK",
        "outputId": "f3fa578c-5f45-4d57-c66c-3100afa1d073"
      },
      "execution_count": null,
      "outputs": [
        {
          "output_type": "execute_result",
          "data": {
            "text/plain": [
              "1.2745966692414834"
            ]
          },
          "metadata": {},
          "execution_count": 8
        }
      ]
    },
    {
      "cell_type": "markdown",
      "source": [
        "3.Непрерывная случайная величина X распределена нормально и задана плотностью распределения f(x) = (1 / (4 * sqrt(2pi))) * exp((-(x+2)**2) / 32)\n",
        "Найдите:\n",
        "\n",
        "а). M(X)\n",
        "\n",
        "б). D(X)\n",
        "\n",
        "в). std(X) (среднее квадратичное отклонение)\n",
        "\n",
        "\n",
        "\n",
        "\n"
      ],
      "metadata": {
        "id": "tPlvMaOfteJR"
      }
    },
    {
      "cell_type": "code",
      "source": [
        "# дисперсия\n",
        "D = 16\n",
        "# математическое ожидание\n",
        "M = -2\n",
        "\n",
        "# среднее квадратичное отклонение\n",
        "std = math.sqrt(D)\n",
        "std"
      ],
      "metadata": {
        "colab": {
          "base_uri": "https://localhost:8080/"
        },
        "id": "uTWeajFutiis",
        "outputId": "3b140bd7-2162-43f7-c415-6b5b6c02912c"
      },
      "execution_count": null,
      "outputs": [
        {
          "output_type": "execute_result",
          "data": {
            "text/plain": [
              "4.0"
            ]
          },
          "metadata": {},
          "execution_count": 9
        }
      ]
    },
    {
      "cell_type": "markdown",
      "source": [
        "4. Рост взрослого населения города X имеет нормальное распределение.\n",
        "Причем, средний рост равен 174 см, а среднее квадратичное отклонение равно 8 см.\n",
        "\n",
        "Какова вероятность того, что случайным образом выбранный взрослый человек имеет рост:\n",
        "\n",
        "\n",
        "1. а). больше 182 см\n",
        "2. б). больше 190 см\n",
        "3. в). от 166 см до 190 см\n",
        "4. г). от 166 см до 182 см\n",
        "5. д). от 158 см до 190 см\n",
        "6. е). не выше 150 см или не ниже 190 см\n",
        "7. ё). не выше 150 см или не ниже 198 см\n",
        "8. ж). ниже 166 см.\n",
        "\n",
        "\n",
        "\n",
        "\n",
        "\n",
        "\n",
        "\n"
      ],
      "metadata": {
        "id": "oeG3FxcA1XEa"
      }
    },
    {
      "cell_type": "code",
      "source": [
        "# вариант а\n",
        "M = 174\n",
        "X = 182\n",
        "sigma = 8\n",
        "z = (X - M)/sigma\n",
        "z_1 = 0.8413\n",
        "P = 1 - z_1\n",
        "P*100"
      ],
      "metadata": {
        "colab": {
          "base_uri": "https://localhost:8080/"
        },
        "id": "0gHMymUm1eFr",
        "outputId": "9b0b6a5b-d055-48e5-a79d-fca1ecd4b20f"
      },
      "execution_count": null,
      "outputs": [
        {
          "output_type": "execute_result",
          "data": {
            "text/plain": [
              "15.869999999999996"
            ]
          },
          "metadata": {},
          "execution_count": 20
        }
      ]
    },
    {
      "cell_type": "code",
      "source": [
        "# вариант б\n",
        "M = 174\n",
        "X = 190\n",
        "sigma = 8\n",
        "z = (X - M)/sigma\n",
        "z_1 = 0.9772\n",
        "P = 1 - z_1\n",
        "P*100"
      ],
      "metadata": {
        "colab": {
          "base_uri": "https://localhost:8080/"
        },
        "id": "KZ4Zj9jS7PNg",
        "outputId": "738e4710-a616-4b34-96f0-571b588bcc6b"
      },
      "execution_count": null,
      "outputs": [
        {
          "output_type": "execute_result",
          "data": {
            "text/plain": [
              "2.2800000000000042"
            ]
          },
          "metadata": {},
          "execution_count": 21
        }
      ]
    },
    {
      "cell_type": "code",
      "source": [
        "# вариант в\n",
        "M = 174\n",
        "X = 190\n",
        "X_1 = 166\n",
        "sigma = 8\n",
        "z = (X - M)/sigma\n",
        "z = 0.9772\n",
        "z_1 = (X_1 - M)/sigma\n",
        "z_1 = 0.1587\n",
        "P = z - z_1\n",
        "P*100"
      ],
      "metadata": {
        "colab": {
          "base_uri": "https://localhost:8080/"
        },
        "id": "GrrOMGvG88K2",
        "outputId": "b1c48e91-2552-4fca-fa32-7ec92f2e0df1"
      },
      "execution_count": null,
      "outputs": [
        {
          "output_type": "execute_result",
          "data": {
            "text/plain": [
              "81.85"
            ]
          },
          "metadata": {},
          "execution_count": 27
        }
      ]
    },
    {
      "cell_type": "code",
      "source": [
        "# вариант г\n",
        "M = 174\n",
        "X = 182\n",
        "X_1 = 166\n",
        "sigma = 8\n",
        "z = (X - M)/sigma\n",
        "z = 0.8413\n",
        "z_1 = (X_1 - M)/sigma\n",
        "z_1 = 0.1587\n",
        "P = z - z_1\n",
        "P*100"
      ],
      "metadata": {
        "colab": {
          "base_uri": "https://localhost:8080/"
        },
        "id": "5x7dbPyh-FPx",
        "outputId": "69f21993-61ca-44c2-e937-b9297cacb581"
      },
      "execution_count": null,
      "outputs": [
        {
          "output_type": "execute_result",
          "data": {
            "text/plain": [
              "68.26"
            ]
          },
          "metadata": {},
          "execution_count": 28
        }
      ]
    },
    {
      "cell_type": "code",
      "source": [
        "# вариант д\n",
        "M = 174\n",
        "X = 190\n",
        "X_1 = 158\n",
        "sigma = 8\n",
        "z = (X - M)/sigma\n",
        "z = 0.9772\n",
        "z_1 = (X_1 - M)/sigma\n",
        "z_1\n",
        "z_1 = 0.0228\n",
        "P = z - z_1\n",
        "P*100"
      ],
      "metadata": {
        "colab": {
          "base_uri": "https://localhost:8080/"
        },
        "id": "avGgzP-IAAtv",
        "outputId": "80c7662f-f78b-43a6-9fda-435199987fd8"
      },
      "execution_count": null,
      "outputs": [
        {
          "output_type": "execute_result",
          "data": {
            "text/plain": [
              "95.44"
            ]
          },
          "metadata": {},
          "execution_count": 33
        }
      ]
    },
    {
      "cell_type": "code",
      "source": [
        "# вариант е\n",
        "M = 174\n",
        "X = 190\n",
        "X_1 = 150\n",
        "sigma = 8\n",
        "z = (X - M)/sigma\n",
        "z = 0.9772\n",
        "z_1 = (X_1 - M)/sigma\n",
        "z_1 = 0.0013\n",
        "P = z_1 = (1 - z) + 0.0013\n",
        "P*100\n"
      ],
      "metadata": {
        "colab": {
          "base_uri": "https://localhost:8080/"
        },
        "id": "_KzBscV9A5jl",
        "outputId": "c2917de6-9f09-4b7d-f8e8-49bc6ff2ad59"
      },
      "execution_count": null,
      "outputs": [
        {
          "output_type": "execute_result",
          "data": {
            "text/plain": [
              "2.410000000000004"
            ]
          },
          "metadata": {},
          "execution_count": 11
        }
      ]
    },
    {
      "cell_type": "code",
      "source": [
        "# вариант ё\n",
        "M = 174\n",
        "X = 198\n",
        "X_1 = 150\n",
        "sigma = 8\n",
        "z = (X - M)/sigma\n",
        "z = 0.9986\n",
        "z_1 = (X_1 - M)/sigma\n",
        "z_1 = 0.0013\n",
        "P = z_1 = (1 - z) + 0.0013\n",
        "P*100"
      ],
      "metadata": {
        "colab": {
          "base_uri": "https://localhost:8080/"
        },
        "id": "TGYY1tGKhV5v",
        "outputId": "80359d16-c31d-4101-c2ac-f85f27d3a99f"
      },
      "execution_count": null,
      "outputs": [
        {
          "output_type": "execute_result",
          "data": {
            "text/plain": [
              "0.2699999999999957"
            ]
          },
          "metadata": {},
          "execution_count": 17
        }
      ]
    },
    {
      "cell_type": "code",
      "source": [
        "# вариант ж\n",
        "M = 174\n",
        "X = 166\n",
        "sigma = 8\n",
        "z = (X - M)/sigma\n",
        "z = 0.1586\n",
        "P = z * 100\n",
        "P"
      ],
      "metadata": {
        "colab": {
          "base_uri": "https://localhost:8080/"
        },
        "id": "mN9DmnunjmzG",
        "outputId": "0690980f-d35d-4e91-c521-f9524190d68e"
      },
      "execution_count": null,
      "outputs": [
        {
          "output_type": "execute_result",
          "data": {
            "text/plain": [
              "15.86"
            ]
          },
          "metadata": {},
          "execution_count": 23
        }
      ]
    },
    {
      "cell_type": "markdown",
      "source": [
        "5.На сколько сигм (средних квадратичных отклонений) отклоняется рост человека, равный 190 см, от математического ожидания роста в популяции, в которой M(X) = 178 см и D(X) = 25 кв.см?\n",
        "\n"
      ],
      "metadata": {
        "id": "0UfBUzcnkuzA"
      }
    },
    {
      "cell_type": "code",
      "source": [
        "import math\n",
        "X = 190\n",
        "M = 178\n",
        "D = 25\n",
        "sigm = math.sqrt(D)\n",
        "z = (X - M)/sigm\n",
        "z"
      ],
      "metadata": {
        "colab": {
          "base_uri": "https://localhost:8080/"
        },
        "id": "AYm_FPsplFFC",
        "outputId": "7809f9e2-a8ad-4c65-84ec-86ed8479c65d"
      },
      "execution_count": null,
      "outputs": [
        {
          "output_type": "execute_result",
          "data": {
            "text/plain": [
              "2.4"
            ]
          },
          "metadata": {},
          "execution_count": 27
        }
      ]
    }
  ]
}