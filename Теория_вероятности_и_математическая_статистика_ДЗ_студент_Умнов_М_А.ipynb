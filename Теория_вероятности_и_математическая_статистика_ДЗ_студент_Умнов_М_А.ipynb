{
  "nbformat": 4,
  "nbformat_minor": 0,
  "metadata": {
    "colab": {
      "provenance": [],
      "toc_visible": true,
      "authorship_tag": "ABX9TyPk4KUo+wH2riCZDMidyyan",
      "include_colab_link": true
    },
    "kernelspec": {
      "name": "python3",
      "display_name": "Python 3"
    },
    "language_info": {
      "name": "python"
    }
  },
  "cells": [
    {
      "cell_type": "markdown",
      "metadata": {
        "id": "view-in-github",
        "colab_type": "text"
      },
      "source": [
        "<a href=\"https://colab.research.google.com/github/Mihail163Samara/29jule/blob/main/%D0%A2%D0%B5%D0%BE%D1%80%D0%B8%D1%8F_%D0%B2%D0%B5%D1%80%D0%BE%D1%8F%D1%82%D0%BD%D0%BE%D1%81%D1%82%D0%B8_%D0%B8_%D0%BC%D0%B0%D1%82%D0%B5%D0%BC%D0%B0%D1%82%D0%B8%D1%87%D0%B5%D1%81%D0%BA%D0%B0%D1%8F_%D1%81%D1%82%D0%B0%D1%82%D0%B8%D1%81%D1%82%D0%B8%D0%BA%D0%B0_%D0%94%D0%97_%D1%81%D1%82%D1%83%D0%B4%D0%B5%D0%BD%D1%82_%D0%A3%D0%BC%D0%BD%D0%BE%D0%B2_%D0%9C_%D0%90.ipynb\" target=\"_parent\"><img src=\"https://colab.research.google.com/assets/colab-badge.svg\" alt=\"Open In Colab\"/></a>"
      ]
    },
    {
      "cell_type": "markdown",
      "source": [
        "# ДЗ-3 разведочный анализ или EDA(exploratory data analysis)"
      ],
      "metadata": {
        "id": "3f1F7L2Woya-"
      }
    },
    {
      "cell_type": "markdown",
      "source": [
        "**Текст, выделенный полужирным шрифтом**\n",
        "\n",
        "1.  Даны значения зарплат из выборки выпускников: 100, 80, 75, 77, 89, 33, 45, 25, 65, 17, 30, 24, 57, 55, 70, 75, 65, 84, 90, 150. Посчитать (желательно без использования статистических методов наподобие std, var, mean) среднее арифметическое, среднее квадратичное отклонение, смещенную и несмещенную оценки дисперсий для данной выборки.\n",
        "\n",
        "\n"
      ],
      "metadata": {
        "id": "YC4cYb1mIEfD"
      }
    },
    {
      "cell_type": "code",
      "source": [
        "import numpy as np\n",
        "x = np.array([100,80,75,77,89,33,45,25,65,17,30,24,57,55,70,75,65,84,90,150])\n"
      ],
      "metadata": {
        "id": "mu8ySpmCIJi7"
      },
      "execution_count": null,
      "outputs": []
    },
    {
      "cell_type": "code",
      "source": [
        "# среднее арифметическое\n",
        "np.mean(x)"
      ],
      "metadata": {
        "colab": {
          "base_uri": "https://localhost:8080/"
        },
        "id": "EHnIUZXCNAZd",
        "outputId": "63ea8e91-f164-406c-9bb1-8dbd05ac325c"
      },
      "execution_count": null,
      "outputs": [
        {
          "output_type": "execute_result",
          "data": {
            "text/plain": [
              "65.3"
            ]
          },
          "metadata": {},
          "execution_count": 25
        }
      ]
    },
    {
      "cell_type": "code",
      "source": [
        "# среднее квадратное отклонение\n",
        "np.std(x)"
      ],
      "metadata": {
        "colab": {
          "base_uri": "https://localhost:8080/"
        },
        "id": "4niNMNlGN5QA",
        "outputId": "20ac0004-c06d-471f-d263-4e7ebae55ebb"
      },
      "execution_count": null,
      "outputs": [
        {
          "output_type": "execute_result",
          "data": {
            "text/plain": [
              "30.823854398825596"
            ]
          },
          "metadata": {},
          "execution_count": 31
        }
      ]
    },
    {
      "cell_type": "code",
      "source": [
        "# смещённая дисперсия\n",
        "np.var(x)"
      ],
      "metadata": {
        "colab": {
          "base_uri": "https://localhost:8080/"
        },
        "id": "lXSKI_HJMBFM",
        "outputId": "e0582f47-3e48-4ff2-9b6d-41ac063b203e"
      },
      "execution_count": null,
      "outputs": [
        {
          "output_type": "execute_result",
          "data": {
            "text/plain": [
              "950.11"
            ]
          },
          "metadata": {},
          "execution_count": 23
        }
      ]
    },
    {
      "cell_type": "code",
      "source": [
        "# несмещённая дисперсия\n",
        "np.var(x,ddof=1)"
      ],
      "metadata": {
        "colab": {
          "base_uri": "https://localhost:8080/"
        },
        "id": "uPC42OSeMlTt",
        "outputId": "6e362716-7396-4687-da61-c32943651b37"
      },
      "execution_count": null,
      "outputs": [
        {
          "output_type": "execute_result",
          "data": {
            "text/plain": [
              "1000.1157894736842"
            ]
          },
          "metadata": {},
          "execution_count": 24
        }
      ]
    },
    {
      "cell_type": "markdown",
      "source": [
        "\n",
        "\n",
        "2.В первом ящике находится 8 мячей, из которых 5 - белые. Во втором ящике - 12 мячей, из которых 5 белых. Из первого ящика вытаскивают случайным образом два мяча, из второго - 4. Какова вероятность того, что 3 мяча белые?\n",
        "\n"
      ],
      "metadata": {
        "id": "WY-sRtHLyLFU"
      }
    },
    {
      "cell_type": "code",
      "source": [
        "from math import comb\n",
        "# первый ящик варианты A=(б,б); B=(б,ч); C=(ч,ч)\n",
        "\n",
        "A = comb(5, 2) / comb(8, 2)\n",
        "B = (comb(5, 1) * comb(3, 1)) / comb(8, 2)\n",
        "C = comb(3, 2)  / comb(8, 2)\n",
        "# второй ящик варианты А_1 = (б,ч,ч,ч); B_1 = (б,б,ч,ч); C_1 = (б,б,б,ч)\n",
        "A_1 = (comb(5, 1) * comb(7, 3)) / comb(12, 4)\n",
        "B_1 = (comb(5, 2) * comb(7, 2)) / comb(12, 4)\n",
        "C_1 = (comb(5, 3) * comb(7, 1)) / comb(12, 4)\n",
        "# Вероятность 3-х белых мячей P_white_boll\n",
        "P_white_boll = A * A_1 + B * B_1 + C * C_1\n",
        "print(f\"Вероятность достать 3 белых мяча {P_white_boll*100:.1f}%\")"
      ],
      "metadata": {
        "colab": {
          "base_uri": "https://localhost:8080/"
        },
        "id": "2lotj_AngyEB",
        "outputId": "dfd61fca-5291-4d32-a6a4-1f71f6dee483"
      },
      "execution_count": null,
      "outputs": [
        {
          "output_type": "stream",
          "name": "stdout",
          "text": [
            "Вероятность достать 3 белых мяча 36.9%\n"
          ]
        }
      ]
    },
    {
      "cell_type": "markdown",
      "source": [
        "\n",
        "\n",
        "\n",
        "3.На соревновании по биатлону один из трех спортсменов стреляет и попадает в мишень. Вероятность попадания для первого спортсмена равна 0.9, для второго — 0.8, для третьего — 0.6. Найти вероятность того, что выстрел произведен: a). первым спортсменом б). вторым спортсменом в). третьим спортсменом.\n",
        "\n"
      ],
      "metadata": {
        "id": "h6SBtoM1t9_h"
      }
    },
    {
      "cell_type": "code",
      "source": [
        "P_MEN_1 = 0.9\n",
        "P_MEN_2 = 0.8\n",
        "P_MEN_3 = 0.6\n",
        "\n",
        "P_1 = P_2 = P_3 = 1/3\n",
        "\n",
        "# Общее число исходов\n",
        "P = P_MEN_1 * P_1 + P_MEN_2 * P_2 + P_MEN_3 * P_3\n",
        "P"
      ],
      "metadata": {
        "colab": {
          "base_uri": "https://localhost:8080/"
        },
        "id": "mhAByjHuuK5Y",
        "outputId": "c301136d-cec3-42db-d0f2-7b5b6b1a5c17"
      },
      "execution_count": null,
      "outputs": [
        {
          "output_type": "execute_result",
          "data": {
            "text/plain": [
              "0.7666666666666666"
            ]
          },
          "metadata": {},
          "execution_count": 3
        }
      ]
    },
    {
      "cell_type": "code",
      "source": [
        "# Вероятность попадания P_MEN_1\n",
        "P_the_first_shooter_one = (P_MEN_1 * P_1)/P\n",
        "P_the_first_shooter_one * 100"
      ],
      "metadata": {
        "colab": {
          "base_uri": "https://localhost:8080/"
        },
        "id": "FNIufS8fGpTb",
        "outputId": "53cfdbf6-7eb9-447f-a0bb-f0d8379514f0"
      },
      "execution_count": null,
      "outputs": [
        {
          "output_type": "execute_result",
          "data": {
            "text/plain": [
              "39.130434782608695"
            ]
          },
          "metadata": {},
          "execution_count": 16
        }
      ]
    },
    {
      "cell_type": "code",
      "source": [
        "# Вероятность попадания P_MEN_2\n",
        "P_the_second_shooter_two = (P_MEN_2 * P_2)/P\n",
        "P_the_second_shooter_two * 100"
      ],
      "metadata": {
        "colab": {
          "base_uri": "https://localhost:8080/"
        },
        "id": "hD5eLuOQIIF4",
        "outputId": "05c7d579-1e46-41bd-9ecb-f7ccfe385c08"
      },
      "execution_count": null,
      "outputs": [
        {
          "output_type": "execute_result",
          "data": {
            "text/plain": [
              "34.78260869565218"
            ]
          },
          "metadata": {},
          "execution_count": 17
        }
      ]
    },
    {
      "cell_type": "code",
      "source": [
        "# Вероятность попадания P_MEN_3\n",
        "P_the_third_shooter_three = (P_MEN_3 * P_3)/P\n",
        "P_the_third_shooter_three * 100"
      ],
      "metadata": {
        "colab": {
          "base_uri": "https://localhost:8080/"
        },
        "id": "YqegGncXIey7",
        "outputId": "a35a74de-71cd-4fbf-fd67-5fdb573dc489"
      },
      "execution_count": null,
      "outputs": [
        {
          "output_type": "execute_result",
          "data": {
            "text/plain": [
              "26.08695652173913"
            ]
          },
          "metadata": {},
          "execution_count": 18
        }
      ]
    },
    {
      "cell_type": "markdown",
      "source": [
        "\n",
        "\n",
        "4.\tВ университет на факультеты A и B поступило равное количество студентов, а на факультет C студентов поступило столько же, сколько на A и B вместе. Вероятность того, что студент факультета A сдаст первую сессию, равна 0.8. Для студента факультета B эта вероятность равна 0.7, а для студента факультета C - 0.9. Студент сдал первую сессию. Какова вероятность, что он учится: a). на факультете A б). на факультете B в). на факультете C?\n",
        "\n"
      ],
      "metadata": {
        "id": "GUbyAHxVJA-Y"
      }
    },
    {
      "cell_type": "code",
      "source": [
        "\n",
        "# Вероятность событий\n",
        "P_A = 0.25\n",
        "P_B = 0.25\n",
        "P_C = 0.5\n",
        "\n",
        "# Вероятность сдачи сессии\n",
        "P_1_A = 0.8\n",
        "P_2_B = 0.7\n",
        "P_3_C = 0.9\n",
        "# Общая вероятность что студент сдаст сессию\n",
        "P = P_A * P_1_A + P_B * P_2_B + P_C * P_3_C\n",
        "P\n",
        "\n",
        "\n"
      ],
      "metadata": {
        "colab": {
          "base_uri": "https://localhost:8080/"
        },
        "id": "viw2d20zPisK",
        "outputId": "beec8bbd-77e7-4c1d-8d49-2dcff1fc3078"
      },
      "execution_count": null,
      "outputs": [
        {
          "output_type": "execute_result",
          "data": {
            "text/plain": [
              "0.825"
            ]
          },
          "metadata": {},
          "execution_count": 22
        }
      ]
    },
    {
      "cell_type": "code",
      "source": [
        "# Вероятность того, что студент учиться на факультете A\n",
        "P_student_of_the_faculty_A  = P_1_A * P_A/P\n",
        "P_student_of_the_faculty_A * 100"
      ],
      "metadata": {
        "colab": {
          "base_uri": "https://localhost:8080/"
        },
        "id": "NTWieBlXRmwY",
        "outputId": "2fdca096-b075-464d-b56c-bae3860ad4d1"
      },
      "execution_count": null,
      "outputs": [
        {
          "output_type": "execute_result",
          "data": {
            "text/plain": [
              "24.242424242424246"
            ]
          },
          "metadata": {},
          "execution_count": 23
        }
      ]
    },
    {
      "cell_type": "code",
      "source": [
        "# Вероятность того, что студент учиться на факультете B\n",
        "P_student_of_the_faculty_B  = P_2_B * P_B/P\n",
        "P_student_of_the_faculty_B * 100"
      ],
      "metadata": {
        "colab": {
          "base_uri": "https://localhost:8080/"
        },
        "id": "0nUGcA4XSdTQ",
        "outputId": "d1157cff-e0dd-49de-cee1-3b20a858f247"
      },
      "execution_count": null,
      "outputs": [
        {
          "output_type": "execute_result",
          "data": {
            "text/plain": [
              "21.21212121212121"
            ]
          },
          "metadata": {},
          "execution_count": 25
        }
      ]
    },
    {
      "cell_type": "code",
      "source": [
        "# Вероятность того, что студент учиться на факультете C\n",
        "P_student_of_the_faculty_C  = P_3_C * P_C/P\n",
        "P_student_of_the_faculty_C * 100"
      ],
      "metadata": {
        "colab": {
          "base_uri": "https://localhost:8080/"
        },
        "id": "5m_DNHtnSlzE",
        "outputId": "1a3a1759-cc63-492d-e651-6564654ec7a7"
      },
      "execution_count": null,
      "outputs": [
        {
          "output_type": "execute_result",
          "data": {
            "text/plain": [
              "54.545454545454554"
            ]
          },
          "metadata": {},
          "execution_count": 27
        }
      ]
    },
    {
      "cell_type": "markdown",
      "source": [
        "5.\tУстройство состоит из трех деталей. Для первой детали вероятность выйти из строя в первый месяц равна 0.1, для второй - 0.2, для третьей - 0.25. Какова вероятность того, что в первый месяц выйдут из строя: а). все детали б). только две детали в). хотя бы одна деталь г). от одной до двух деталей?"
      ],
      "metadata": {
        "id": "0HI-oczMS8nW"
      }
    },
    {
      "cell_type": "code",
      "source": [
        "# Вероятность выхода из строя деталей\n",
        "P_1 = 0.1\n",
        "P_2 = 0.2\n",
        "P_3 = 0.25\n"
      ],
      "metadata": {
        "colab": {
          "base_uri": "https://localhost:8080/"
        },
        "id": "EmBz9NgsTCK8",
        "outputId": "dabd7116-4007-4b69-f6a9-5a551cef691d"
      },
      "execution_count": null,
      "outputs": [
        {
          "output_type": "execute_result",
          "data": {
            "text/plain": [
              "0.5000000000000001"
            ]
          },
          "metadata": {},
          "execution_count": 28
        }
      ]
    },
    {
      "cell_type": "code",
      "source": [
        "# Вероятности не выйти из строя\n",
        "P_will_not_fail_1 = 1 - P_1\n",
        "P_will_not_fail_2 = 1 - P_2\n",
        "P_will_not_fail_3 = 1 - P_3\n",
        "print(P_will_not_fail_1,\n",
        "P_will_not_fail_2,\n",
        "P_will_not_fail_3)"
      ],
      "metadata": {
        "colab": {
          "base_uri": "https://localhost:8080/"
        },
        "id": "Mlp9TymFUkDT",
        "outputId": "069ad32a-d2e0-4f6c-e815-8b9f1b1e99be"
      },
      "execution_count": null,
      "outputs": [
        {
          "output_type": "stream",
          "name": "stdout",
          "text": [
            "0.9 0.8 0.75\n"
          ]
        }
      ]
    },
    {
      "cell_type": "code",
      "source": [
        "# Вероятность выхода из строя всех деталей\n",
        "P = P_1 * P_2 * P_3\n",
        "P * 100"
      ],
      "metadata": {
        "colab": {
          "base_uri": "https://localhost:8080/"
        },
        "id": "75kUdVHpc44n",
        "outputId": "4678d4d3-e166-4f68-a85f-ee8340a01319"
      },
      "execution_count": null,
      "outputs": [
        {
          "output_type": "execute_result",
          "data": {
            "text/plain": [
              "0.5000000000000001"
            ]
          },
          "metadata": {},
          "execution_count": 41
        }
      ]
    },
    {
      "cell_type": "code",
      "source": [
        "#Вероятность выхода из стория только двух деталей\n"
      ],
      "metadata": {
        "id": "HPb4TE5jb9uq"
      },
      "execution_count": null,
      "outputs": []
    },
    {
      "cell_type": "code",
      "source": [
        "P_two_will_fail = (P_1 * P_2 * P_will_not_fail_3) + (P_1 * P_will_not_fail_2 * P_3) + (P_will_not_fail_1 * P_2 * P_3)\n",
        "P_two_will_fail * 100"
      ],
      "metadata": {
        "colab": {
          "base_uri": "https://localhost:8080/"
        },
        "id": "-DFroOqfc7P3",
        "outputId": "9e773e80-d7c7-4451-fd65-3ddc02837c62"
      },
      "execution_count": null,
      "outputs": [
        {
          "output_type": "execute_result",
          "data": {
            "text/plain": [
              "8.000000000000002"
            ]
          },
          "metadata": {},
          "execution_count": 43
        }
      ]
    },
    {
      "cell_type": "code",
      "source": [
        "#Вероятность выхода из стория хотябы одной детали\n",
        "P_one_will_fail = 1 - (P_will_not_fail_1 * P_will_not_fail_2 * P_will_not_fail_3)\n",
        "P_one_will_fail * 100"
      ],
      "metadata": {
        "colab": {
          "base_uri": "https://localhost:8080/"
        },
        "id": "Ba5HS0H1Xev3",
        "outputId": "13b43011-1ff5-4cfb-9788-4a853ba3e28b"
      },
      "execution_count": null,
      "outputs": [
        {
          "output_type": "execute_result",
          "data": {
            "text/plain": [
              "46.0"
            ]
          },
          "metadata": {},
          "execution_count": 40
        }
      ]
    },
    {
      "cell_type": "code",
      "source": [
        "# Вероятность выхода из строя от одной до двух деталей составляет\n",
        "it_will_fail_from_1_to_2 = P_two_will_fail + (P_1 * P_will_not_fail_2 * P_will_not_fail_3) + (P_will_not_fail_1 * P_2 *  P_will_not_fail_3) + (P_will_not_fail_1 * P_will_not_fail_2 * P_3)\n",
        "it_will_fail_from_1_to_2 * 100\n"
      ],
      "metadata": {
        "colab": {
          "base_uri": "https://localhost:8080/"
        },
        "id": "U7K3f1wCeQY9",
        "outputId": "c0a20b88-5146-4c35-d14d-5ae88168f994"
      },
      "execution_count": null,
      "outputs": [
        {
          "output_type": "execute_result",
          "data": {
            "text/plain": [
              "45.50000000000001"
            ]
          },
          "metadata": {},
          "execution_count": 49
        }
      ]
    },
    {
      "cell_type": "markdown",
      "source": [
        "# ДЗ-4 непрерывная случайная величина"
      ],
      "metadata": {
        "id": "0GgjiMaeocIF"
      }
    },
    {
      "cell_type": "markdown",
      "source": [
        "1.Случайная непрерывная величина A имеет равномерное распределение на промежутке (200, 800]. Найдите ее среднее значение и дисперсию."
      ],
      "metadata": {
        "id": "YIGLHMw-oq_V"
      }
    },
    {
      "cell_type": "code",
      "source": [
        "a = 200\n",
        "b = 800\n",
        "\n",
        "# среднее значение\n",
        "M = (a+b)/2\n",
        "M"
      ],
      "metadata": {
        "colab": {
          "base_uri": "https://localhost:8080/"
        },
        "id": "Lzn0UFQZpTlW",
        "outputId": "6d310a39-9475-459a-c77c-23692807404d"
      },
      "execution_count": null,
      "outputs": [
        {
          "output_type": "execute_result",
          "data": {
            "text/plain": [
              "500.0"
            ]
          },
          "metadata": {},
          "execution_count": 2
        }
      ]
    },
    {
      "cell_type": "code",
      "source": [
        "# дисперсия\n",
        "D = (b-a)**2/12\n",
        "D"
      ],
      "metadata": {
        "colab": {
          "base_uri": "https://localhost:8080/"
        },
        "id": "JVqs-5iLqA6v",
        "outputId": "8fc0d102-51f7-4b78-8e2c-236d8aa7b6d3"
      },
      "execution_count": null,
      "outputs": [
        {
          "output_type": "execute_result",
          "data": {
            "text/plain": [
              "30000.0"
            ]
          },
          "metadata": {},
          "execution_count": 3
        }
      ]
    },
    {
      "cell_type": "markdown",
      "source": [
        "2.О случайной непрерывной равномерно распределенной величине B известно, что ее дисперсия равна 0.2. Можно ли найти правую границу величины B и ее среднее значение зная, что левая граница равна 0.5? Если да, найдите ее.\n",
        "\n"
      ],
      "metadata": {
        "id": "40PvORjrqR4A"
      }
    },
    {
      "cell_type": "code",
      "source": [
        "import math\n",
        "\n",
        "D = 0.2\n",
        "a = 0.5\n",
        "# находим правую границу\n",
        "b = a + math.sqrt(12 * D)\n",
        "b"
      ],
      "metadata": {
        "colab": {
          "base_uri": "https://localhost:8080/"
        },
        "id": "R9ykS5BVqaSp",
        "outputId": "70b104a2-7fab-4367-ce7f-5d07f9714b5c"
      },
      "execution_count": null,
      "outputs": [
        {
          "output_type": "execute_result",
          "data": {
            "text/plain": [
              "2.049193338482967"
            ]
          },
          "metadata": {},
          "execution_count": 7
        }
      ]
    },
    {
      "cell_type": "code",
      "source": [
        "# находим среднее значение\n",
        "M = (a + b)/2\n",
        "M"
      ],
      "metadata": {
        "colab": {
          "base_uri": "https://localhost:8080/"
        },
        "id": "CxcIefRds7pK",
        "outputId": "f3fa578c-5f45-4d57-c66c-3100afa1d073"
      },
      "execution_count": null,
      "outputs": [
        {
          "output_type": "execute_result",
          "data": {
            "text/plain": [
              "1.2745966692414834"
            ]
          },
          "metadata": {},
          "execution_count": 8
        }
      ]
    },
    {
      "cell_type": "markdown",
      "source": [
        "3.Непрерывная случайная величина X распределена нормально и задана плотностью распределения f(x) = (1 / (4 * sqrt(2pi))) * exp((-(x+2)**2) / 32)\n",
        "Найдите:\n",
        "\n",
        "а). M(X)\n",
        "\n",
        "б). D(X)\n",
        "\n",
        "в). std(X) (среднее квадратичное отклонение)\n",
        "\n",
        "\n",
        "\n",
        "\n"
      ],
      "metadata": {
        "id": "tPlvMaOfteJR"
      }
    },
    {
      "cell_type": "code",
      "source": [
        "# дисперсия\n",
        "D = 16\n",
        "# математическое ожидание\n",
        "M = -2\n",
        "\n",
        "# среднее квадратичное отклонение\n",
        "std = math.sqrt(D)\n",
        "std"
      ],
      "metadata": {
        "colab": {
          "base_uri": "https://localhost:8080/"
        },
        "id": "uTWeajFutiis",
        "outputId": "3b140bd7-2162-43f7-c415-6b5b6c02912c"
      },
      "execution_count": null,
      "outputs": [
        {
          "output_type": "execute_result",
          "data": {
            "text/plain": [
              "4.0"
            ]
          },
          "metadata": {},
          "execution_count": 9
        }
      ]
    },
    {
      "cell_type": "markdown",
      "source": [
        "4. Рост взрослого населения города X имеет нормальное распределение.\n",
        "Причем, средний рост равен 174 см, а среднее квадратичное отклонение равно 8 см.\n",
        "\n",
        "Какова вероятность того, что случайным образом выбранный взрослый человек имеет рост:\n",
        "\n",
        "\n",
        "1. а). больше 182 см\n",
        "2. б). больше 190 см\n",
        "3. в). от 166 см до 190 см\n",
        "4. г). от 166 см до 182 см\n",
        "5. д). от 158 см до 190 см\n",
        "6. е). не выше 150 см или не ниже 190 см\n",
        "7. ё). не выше 150 см или не ниже 198 см\n",
        "8. ж). ниже 166 см.\n",
        "\n",
        "\n",
        "\n",
        "\n",
        "\n",
        "\n",
        "\n"
      ],
      "metadata": {
        "id": "oeG3FxcA1XEa"
      }
    },
    {
      "cell_type": "code",
      "source": [
        "# вариант а\n",
        "M = 174\n",
        "X = 182\n",
        "sigma = 8\n",
        "z = (X - M)/sigma\n",
        "z_1 = 0.8413\n",
        "P = 1 - z_1\n",
        "P*100"
      ],
      "metadata": {
        "colab": {
          "base_uri": "https://localhost:8080/"
        },
        "id": "0gHMymUm1eFr",
        "outputId": "9b0b6a5b-d055-48e5-a79d-fca1ecd4b20f"
      },
      "execution_count": null,
      "outputs": [
        {
          "output_type": "execute_result",
          "data": {
            "text/plain": [
              "15.869999999999996"
            ]
          },
          "metadata": {},
          "execution_count": 20
        }
      ]
    },
    {
      "cell_type": "code",
      "source": [
        "# вариант б\n",
        "M = 174\n",
        "X = 190\n",
        "sigma = 8\n",
        "z = (X - M)/sigma\n",
        "z_1 = 0.9772\n",
        "P = 1 - z_1\n",
        "P*100"
      ],
      "metadata": {
        "colab": {
          "base_uri": "https://localhost:8080/"
        },
        "id": "KZ4Zj9jS7PNg",
        "outputId": "738e4710-a616-4b34-96f0-571b588bcc6b"
      },
      "execution_count": null,
      "outputs": [
        {
          "output_type": "execute_result",
          "data": {
            "text/plain": [
              "2.2800000000000042"
            ]
          },
          "metadata": {},
          "execution_count": 21
        }
      ]
    },
    {
      "cell_type": "code",
      "source": [
        "# вариант в\n",
        "M = 174\n",
        "X = 190\n",
        "X_1 = 166\n",
        "sigma = 8\n",
        "z = (X - M)/sigma\n",
        "z = 0.9772\n",
        "z_1 = (X_1 - M)/sigma\n",
        "z_1 = 0.1587\n",
        "P = z - z_1\n",
        "P*100"
      ],
      "metadata": {
        "colab": {
          "base_uri": "https://localhost:8080/"
        },
        "id": "GrrOMGvG88K2",
        "outputId": "b1c48e91-2552-4fca-fa32-7ec92f2e0df1"
      },
      "execution_count": null,
      "outputs": [
        {
          "output_type": "execute_result",
          "data": {
            "text/plain": [
              "81.85"
            ]
          },
          "metadata": {},
          "execution_count": 27
        }
      ]
    },
    {
      "cell_type": "code",
      "source": [
        "# вариант г\n",
        "M = 174\n",
        "X = 182\n",
        "X_1 = 166\n",
        "sigma = 8\n",
        "z = (X - M)/sigma\n",
        "z = 0.8413\n",
        "z_1 = (X_1 - M)/sigma\n",
        "z_1 = 0.1587\n",
        "P = z - z_1\n",
        "P*100"
      ],
      "metadata": {
        "colab": {
          "base_uri": "https://localhost:8080/"
        },
        "id": "5x7dbPyh-FPx",
        "outputId": "69f21993-61ca-44c2-e937-b9297cacb581"
      },
      "execution_count": null,
      "outputs": [
        {
          "output_type": "execute_result",
          "data": {
            "text/plain": [
              "68.26"
            ]
          },
          "metadata": {},
          "execution_count": 28
        }
      ]
    },
    {
      "cell_type": "code",
      "source": [
        "# вариант д\n",
        "M = 174\n",
        "X = 190\n",
        "X_1 = 158\n",
        "sigma = 8\n",
        "z = (X - M)/sigma\n",
        "z = 0.9772\n",
        "z_1 = (X_1 - M)/sigma\n",
        "z_1\n",
        "z_1 = 0.0228\n",
        "P = z - z_1\n",
        "P*100"
      ],
      "metadata": {
        "colab": {
          "base_uri": "https://localhost:8080/"
        },
        "id": "avGgzP-IAAtv",
        "outputId": "80c7662f-f78b-43a6-9fda-435199987fd8"
      },
      "execution_count": null,
      "outputs": [
        {
          "output_type": "execute_result",
          "data": {
            "text/plain": [
              "95.44"
            ]
          },
          "metadata": {},
          "execution_count": 33
        }
      ]
    },
    {
      "cell_type": "code",
      "source": [
        "# вариант е\n",
        "M = 174\n",
        "X = 190\n",
        "X_1 = 150\n",
        "sigma = 8\n",
        "z = (X - M)/sigma\n",
        "z = 0.9772\n",
        "z_1 = (X_1 - M)/sigma\n",
        "z_1 = 0.0013\n",
        "P = z_1 = (1 - z) + 0.0013\n",
        "P*100\n"
      ],
      "metadata": {
        "colab": {
          "base_uri": "https://localhost:8080/"
        },
        "id": "_KzBscV9A5jl",
        "outputId": "c2917de6-9f09-4b7d-f8e8-49bc6ff2ad59"
      },
      "execution_count": null,
      "outputs": [
        {
          "output_type": "execute_result",
          "data": {
            "text/plain": [
              "2.410000000000004"
            ]
          },
          "metadata": {},
          "execution_count": 11
        }
      ]
    },
    {
      "cell_type": "code",
      "source": [
        "# вариант ё\n",
        "M = 174\n",
        "X = 198\n",
        "X_1 = 150\n",
        "sigma = 8\n",
        "z = (X - M)/sigma\n",
        "z = 0.9986\n",
        "z_1 = (X_1 - M)/sigma\n",
        "z_1 = 0.0013\n",
        "P = z_1 = (1 - z) + 0.0013\n",
        "P*100"
      ],
      "metadata": {
        "colab": {
          "base_uri": "https://localhost:8080/"
        },
        "id": "TGYY1tGKhV5v",
        "outputId": "80359d16-c31d-4101-c2ac-f85f27d3a99f"
      },
      "execution_count": null,
      "outputs": [
        {
          "output_type": "execute_result",
          "data": {
            "text/plain": [
              "0.2699999999999957"
            ]
          },
          "metadata": {},
          "execution_count": 17
        }
      ]
    },
    {
      "cell_type": "code",
      "source": [
        "# вариант ж\n",
        "M = 174\n",
        "X = 166\n",
        "sigma = 8\n",
        "z = (X - M)/sigma\n",
        "z = 0.1586\n",
        "P = z * 100\n",
        "P"
      ],
      "metadata": {
        "colab": {
          "base_uri": "https://localhost:8080/"
        },
        "id": "mN9DmnunjmzG",
        "outputId": "0690980f-d35d-4e91-c521-f9524190d68e"
      },
      "execution_count": null,
      "outputs": [
        {
          "output_type": "execute_result",
          "data": {
            "text/plain": [
              "15.86"
            ]
          },
          "metadata": {},
          "execution_count": 23
        }
      ]
    },
    {
      "cell_type": "markdown",
      "source": [
        "5.На сколько сигм (средних квадратичных отклонений) отклоняется рост человека, равный 190 см, от математического ожидания роста в популяции, в которой M(X) = 178 см и D(X) = 25 кв.см?\n",
        "\n"
      ],
      "metadata": {
        "id": "0UfBUzcnkuzA"
      }
    },
    {
      "cell_type": "code",
      "source": [
        "import math\n",
        "X = 190\n",
        "M = 178\n",
        "D = 25\n",
        "sigm = math.sqrt(D)\n",
        "z = (X - M)/sigm\n",
        "z"
      ],
      "metadata": {
        "colab": {
          "base_uri": "https://localhost:8080/"
        },
        "id": "AYm_FPsplFFC",
        "outputId": "7809f9e2-a8ad-4c65-84ec-86ed8479c65d"
      },
      "execution_count": null,
      "outputs": [
        {
          "output_type": "execute_result",
          "data": {
            "text/plain": [
              "2.4"
            ]
          },
          "metadata": {},
          "execution_count": 27
        }
      ]
    },
    {
      "cell_type": "markdown",
      "source": [
        "# ДЗ-5 тестирование гипотиз и построение доверительных интервалов"
      ],
      "metadata": {
        "id": "IWl6VnwPFXN5"
      }
    },
    {
      "cell_type": "markdown",
      "source": [
        "1. Когда используется критерий Стьюдента, а когда Z –критерий?\n",
        "\n",
        "Z-тест используется когда известно среднее квадратичное отклонение и нормальное распределение, T-test используется при нормальном распределении, с равенством дисперсий и неизвестным квадратичным отклонением, сравнении двух и более групп."
      ],
      "metadata": {
        "id": "jfovXsMUUYc8"
      }
    },
    {
      "cell_type": "markdown",
      "source": [
        "2. Проведите тест гипотезы. Утверждается, что шарики для подшипников, изготовленные автоматическим станком, имеют средний диаметр 17 мм. Используя односторонний критерий с α=0,05, проверить эту гипотезу, если в выборке из n=100 шариков средний диаметр оказался равным 17.5 мм, а дисперсия известна и равна 4 кв. мм."
      ],
      "metadata": {
        "id": "UlQ0vY2nHiNr"
      }
    },
    {
      "cell_type": "code",
      "source": [
        "import numpy as np\n",
        "import math\n",
        "import scipy.stats as stats\n",
        "\n",
        "# данные из задания\n",
        "n = 100\n",
        "D = 4\n",
        "alpha = 0.05\n",
        "mu = 17\n",
        "mu_1 = 17.5\n",
        "\n",
        "# H0 = 17\n",
        "# H1 < 17\n",
        "\n",
        "# Z_observable -1.25\n",
        "Z_observable = (mu - mu_1) / (4 / (np.sqrt(n)))\n",
        "Z_observable\n",
        "# Z_critical 1.644\n",
        "z_critical = stats.norm.ppf(1 - alpha)\n",
        "z_critical\n",
        "# Вывод Z_observable < Z_critical 1.644\n",
        "# не отклоняем нулевую гипотезу."
      ],
      "metadata": {
        "colab": {
          "base_uri": "https://localhost:8080/"
        },
        "id": "3WnL-73yH2yF",
        "outputId": "2b848d9c-bf6b-465c-b2ea-b40253f86116"
      },
      "execution_count": null,
      "outputs": [
        {
          "output_type": "execute_result",
          "data": {
            "text/plain": [
              "1.6448536269514722"
            ]
          },
          "metadata": {},
          "execution_count": 17
        }
      ]
    },
    {
      "cell_type": "markdown",
      "source": [
        "  3.Проведите тест гипотезы. Продавец утверждает, что средний вес пачки печенья составляет 200 г. Из партии извлечена выборка из 10 пачек. Вес каждой пачки составляет: 202, 203, 199, 197, 195, 201, 200, 204, 194, 190. Известно, что их веса распределены нормально. Верно ли утверждение продавца, если учитывать, что доверительная вероятность равна 99%?"
      ],
      "metadata": {
        "id": "zWf7xbApgw8H"
      }
    },
    {
      "cell_type": "code",
      "source": [
        "import numpy as np\n",
        "import scipy.stats as stats\n",
        "mu = 200\n",
        "n_len = 10\n",
        "x = np.array([202, 203, 199, 197, 195, 201, 200, 204, 194, 190])\n",
        "alpha = 0.01\n",
        "# выборочное среднее 198.5\n",
        "mu_1 = np.mean(x)\n",
        "\n",
        "# стандартное среднее отклоненение 4.45\n",
        "standard_deviation = np.std(x, ddof=1)\n",
        "\n",
        "\n",
        "# статистический критерий 1.065\n",
        "t_observable = (mu - mu_1) / (standard_deviation / (np.sqrt(n_len)))\n",
        "\n",
        "\n",
        "# Критическое значение 3.249\n",
        "t_crite = stats.t.ppf(1 - alpha / 2, df=n_len-1)\n",
        "\n",
        "\n",
        "# p-value 0.314\n",
        "p_value = 2 * (1 - stats.t.cdf(np.abs(t_observable), df=n_len-1))\n",
        "\n",
        "# Вывод результатов\n",
        "print(f\"Выборочное среднее: {mu_1:.2f}\")\n",
        "print(f\"Выборочное стандартное отклонение: {standard_deviation:.2f}\")\n",
        "print(f\"t-наблюдаемое: {t_observable:.2f}\")\n",
        "print(f\"Критическое значение t: {t_crite:.2f}\")\n",
        "print(f\"p-value: {p_value:.4f}\")\n",
        "\n",
        "if np.abs(t_observable) > t_crite:\n",
        "    print(\"Отклоняем нулевую гипотезу: средний вес пачки печенья отличается от 200 г.\")\n",
        "else:\n",
        "    print(\"Не отклоняем нулевую гипотезу: средний вес пачки печенья не отличается от 200 г.\")"
      ],
      "metadata": {
        "colab": {
          "base_uri": "https://localhost:8080/"
        },
        "id": "ywSg4k2ng7ow",
        "outputId": "701050d5-2493-40f2-a42b-53ad7ef43ce3"
      },
      "execution_count": null,
      "outputs": [
        {
          "output_type": "stream",
          "name": "stdout",
          "text": [
            "Выборочное среднее: 198.50\n",
            "Выборочное стандартное отклонение: 4.45\n",
            "t-наблюдаемое: 1.07\n",
            "Критическое значение t: 3.25\n",
            "p-value: 0.3146\n",
            "Не отклоняем нулевую гипотезу: средний вес пачки печенья не отличается от 200 г.\n"
          ]
        }
      ]
    },
    {
      "cell_type": "markdown",
      "source": [
        "4.Есть ли статистически значимые различия в росте дочерей? Рост матерей 172, 177, 158, 170, 178,175, 164, 160, 169 Рост взрослых дочерей: 173, 175, 162, 174, 175, 168, 155, 170, 160"
      ],
      "metadata": {
        "id": "iKcV5BdrQDUp"
      }
    },
    {
      "cell_type": "code",
      "source": [
        "#новое значение для выборки роста дочерей = ср.ариф из выборки\n",
        "import numpy as np\n",
        "from scipy.stats import ttest_ind\n",
        "\n",
        "# Данные\n",
        "the_growth_of_mothers = [172, 177, 158, 170, 178, 175, 164, 160, 169]\n",
        "the_growth_of_daughters = [173, 175, 162, 174, 175, 168, 155, 170, 160]\n",
        "\n",
        "\n",
        "# Применение t-теста\n",
        "data = ttest_ind(the_growth_of_mothers, the_growth_of_daughters)\n",
        "data\n",
        "\n"
      ],
      "metadata": {
        "colab": {
          "base_uri": "https://localhost:8080/"
        },
        "id": "-wtViFK8Rc6F",
        "outputId": "cebebbfd-6e9d-4635-d108-a75a1f5990b2"
      },
      "execution_count": null,
      "outputs": [
        {
          "output_type": "execute_result",
          "data": {
            "text/plain": [
              "TtestResult(statistic=0.35581195161541973, pvalue=0.7266292679160495, df=16.0)"
            ]
          },
          "metadata": {},
          "execution_count": 17
        }
      ]
    },
    {
      "cell_type": "markdown",
      "source": [
        "Вывод:pvalue (0.726) > 0.05, принимаем нулевую гипотезу 𝐻0. Нет статистически значимых различий в росте матерей и дочерей."
      ],
      "metadata": {
        "id": "pnoNqj8-Txer"
      }
    },
    {
      "cell_type": "markdown",
      "source": [
        "# ДЗ-6 сравнение долей. Построение доверительного интервала"
      ],
      "metadata": {
        "id": "XHU47ceZjoe4"
      }
    },
    {
      "cell_type": "markdown",
      "source": [
        "1. Известно, что генеральная совокупность распределена нормально со средним квадратическим отклонением, равным 16. Найти доверительный интервал для оценки математического ожидания a с надежностью 0.95, если выборочная средняя M = 80, а объем выборки n = 256."
      ],
      "metadata": {
        "id": "elNs9kgfj-Xj"
      }
    },
    {
      "cell_type": "code",
      "source": [
        "import scipy.stats as stats\n",
        "import math\n",
        "\n",
        "std = 16\n",
        "a = 0.95\n",
        "m = 80\n",
        "n = 256\n",
        "\n",
        "z = stats.norm.ppf((1 + a) / 2)\n",
        "z\n",
        "\n",
        "se = std/math.sqrt(n)\n",
        "se\n",
        "\n",
        "lower_limit = m - z * se\n",
        "upper_limit = m + z * se\n",
        "\n",
        "print(f\"[{lower_limit:.2f}, {upper_limit:.2f}]\")\n",
        "\n"
      ],
      "metadata": {
        "colab": {
          "base_uri": "https://localhost:8080/"
        },
        "id": "ZymB9YFWkELJ",
        "outputId": "cfb5a792-2da9-47b7-b846-84cfb1bae9b1"
      },
      "execution_count": null,
      "outputs": [
        {
          "output_type": "stream",
          "name": "stdout",
          "text": [
            "[78.04, 81.96]\n"
          ]
        }
      ]
    },
    {
      "cell_type": "markdown",
      "source": [
        "2. В результате 10 независимых измерений некоторой величины X, выполненных с одинаковой точностью, получены опытные данные: 6.9, 6.1, 6.2, 6.8, 7.5, 6.3, 6.4, 6.9, 6.7, 6.1 Предполагая, что результаты измерений подчинены нормальному закону распределения вероятностей, оценить истинное значение величины X при помощи доверительного интервала, покрывающего это значение с доверительной вероятностью 0,95."
      ],
      "metadata": {
        "id": "xXHukdr6oehK"
      }
    },
    {
      "cell_type": "code",
      "source": [
        "import numpy as np\n",
        "import scipy.stats as stats\n",
        "\n",
        "results = np.array([6.9, 6.1, 6.2, 6.8, 7.5, 6.3, 6.4, 6.9, 6.7, 6.1])\n",
        "\n",
        "mean = np.mean(results)\n",
        "std = np.std(results, ddof=1)\n",
        "n = 10\n",
        "len = 9\n",
        "a = 0.95\n",
        "t_crit = stats.t.ppf((1 + a)/2, len)\n",
        "se = t_crit * (std / np.sqrt(n))\n",
        "\n",
        "lower_limit = mean -  se\n",
        "upper_limit = mean +  se\n",
        "\n",
        "print(f\"[{lower_limit:.2f}, {upper_limit:.2f}]\")\n"
      ],
      "metadata": {
        "colab": {
          "base_uri": "https://localhost:8080/"
        },
        "id": "fBFP1sd80pJN",
        "outputId": "c118d642-1bfb-4630-c3c1-a2e614a16149"
      },
      "execution_count": 4,
      "outputs": [
        {
          "output_type": "stream",
          "name": "stdout",
          "text": [
            "[6.27, 6.91]\n"
          ]
        }
      ]
    },
    {
      "cell_type": "markdown",
      "source": [
        "3. Рост дочерей 175, 167, 154, 174, 178, 148, 160, 167, 169, 170 Рост матерей 178, 165, 165, 173, 168, 155, 160, 164, 178, 175 Используя эти данные построить 95% доверительный интервал для разности среднего роста родителей и детей."
      ],
      "metadata": {
        "id": "i1y2B7uQ2zle"
      }
    },
    {
      "cell_type": "code",
      "source": [
        "import numpy as np\n",
        "import scipy.stats as stats\n",
        "\n",
        "# Данные\n",
        "daughters_height = np.array([175, 167, 154, 174, 178, 148, 160, 167, 169, 170])\n",
        "mothers_height = np.array([178, 165, 165, 173, 168, 155, 160, 164, 178, 175])\n",
        "\n",
        "# Выборочные средние и стандартные отклонения\n",
        "mean_daughters = np.mean(daughters_height)\n",
        "mean_mothers = np.mean(mothers_height)\n",
        "std_daughters = np.std(daughters_height, ddof=1)\n",
        "std_mothers = np.std(mothers_height, ddof=1)\n",
        "n_daughters = 10\n",
        "n_mothers = 10\n",
        "\n",
        "# Стандартная ошибка разности средних\n",
        "se = np.sqrt((std_daughters**2 / n_daughters) + (std_mothers**2 / n_mothers))\n",
        "\n",
        "# Критическое значение t\n",
        "df = min(n_daughters, n_mothers) - 1\n",
        "t_critical = stats.t.ppf((1 + a) / 2, df=df)\n",
        "\n",
        "# Доверительный интервал\n",
        "mean_difference = mean_daughters - mean_mothers\n",
        "margin_of_error = t_critical * se\n",
        "lower_bound = mean_difference - margin_of_error\n",
        "upper_bound = mean_difference + margin_of_error\n",
        "\n",
        "# Результат\n",
        "(lower_bound, upper_bound)"
      ],
      "metadata": {
        "colab": {
          "base_uri": "https://localhost:8080/"
        },
        "id": "riUwLZjOC61J",
        "outputId": "d36263f3-08a8-4697-d240-e57ecaf932b0"
      },
      "execution_count": 6,
      "outputs": [
        {
          "output_type": "execute_result",
          "data": {
            "text/plain": [
              "(-10.695302734271406, 6.895302734271395)"
            ]
          },
          "metadata": {},
          "execution_count": 6
        }
      ]
    },
    {
      "cell_type": "code",
      "source": [
        "import matplotlib.pyplot as plt\n",
        "import numpy as np\n",
        "import scipy.stats as stats\n",
        "#графическое представление\n",
        "plt.figure(figsize=(10, 6))\n",
        "\n",
        "# Plotting the normal distribution\n",
        "x = np.linspace(mean_difference - 15, mean_difference + 15, 400)\n",
        "y = stats.norm.pdf(x, mean_difference, se_difference)\n",
        "plt.plot(x, y, label='Нормальное распределение')\n",
        "\n",
        "# Highlighting the confidence interval\n",
        "plt.fill_between(x, y, where=(x >= confidence_interval[0]) & (x <= confidence_interval[1]), color='red', alpha=0.3, label='95% Доверительный интервал')\n",
        "\n",
        "# Adding the mean difference with error bars\n",
        "plt.errorbar(mean_difference, 0, xerr=[[mean_difference - confidence_interval[0]], [confidence_interval[1] - mean_difference]], fmt='o', color='blue', ecolor='red', capsize=5, label='Средняя величина')\n",
        "plt.axvline(x=mean_difference, color='blue', linestyle='--')\n",
        "plt.axvline(x=confidence_interval[0], color='red', linestyle='--')\n",
        "plt.axvline(x=confidence_interval[1], color='red', linestyle='--')\n",
        "\n",
        "# Enhancing plot details\n",
        "plt.title('95% Доверительный интервал')\n",
        "plt.xlabel('Разность среднего роста матерей и дочерей (см)')\n",
        "plt.yticks([])\n",
        "plt.legend()\n",
        "plt.grid(True)\n",
        "plt.show()"
      ],
      "metadata": {
        "colab": {
          "base_uri": "https://localhost:8080/",
          "height": 228
        },
        "id": "KeNs_iXxDY67",
        "outputId": "d42a20d5-d9e0-467d-cc19-0cce178e486c"
      },
      "execution_count": 14,
      "outputs": [
        {
          "output_type": "error",
          "ename": "NameError",
          "evalue": "name 'se_difference' is not defined",
          "traceback": [
            "\u001b[0;31m---------------------------------------------------------------------------\u001b[0m",
            "\u001b[0;31mNameError\u001b[0m                                 Traceback (most recent call last)",
            "\u001b[0;32m<ipython-input-14-5213a1980a09>\u001b[0m in \u001b[0;36m<cell line: 9>\u001b[0;34m()\u001b[0m\n\u001b[1;32m      7\u001b[0m \u001b[0;31m# Plotting the normal distribution\u001b[0m\u001b[0;34m\u001b[0m\u001b[0;34m\u001b[0m\u001b[0m\n\u001b[1;32m      8\u001b[0m \u001b[0mx\u001b[0m \u001b[0;34m=\u001b[0m \u001b[0mnp\u001b[0m\u001b[0;34m.\u001b[0m\u001b[0mlinspace\u001b[0m\u001b[0;34m(\u001b[0m\u001b[0mmean_difference\u001b[0m \u001b[0;34m-\u001b[0m \u001b[0;36m15\u001b[0m\u001b[0;34m,\u001b[0m \u001b[0mmean_difference\u001b[0m \u001b[0;34m+\u001b[0m \u001b[0;36m15\u001b[0m\u001b[0;34m,\u001b[0m \u001b[0;36m400\u001b[0m\u001b[0;34m)\u001b[0m\u001b[0;34m\u001b[0m\u001b[0;34m\u001b[0m\u001b[0m\n\u001b[0;32m----> 9\u001b[0;31m \u001b[0my\u001b[0m \u001b[0;34m=\u001b[0m \u001b[0mstats\u001b[0m\u001b[0;34m.\u001b[0m\u001b[0mnorm\u001b[0m\u001b[0;34m.\u001b[0m\u001b[0mpdf\u001b[0m\u001b[0;34m(\u001b[0m\u001b[0mx\u001b[0m\u001b[0;34m,\u001b[0m \u001b[0mmean_difference\u001b[0m\u001b[0;34m,\u001b[0m \u001b[0mse_difference\u001b[0m\u001b[0;34m)\u001b[0m\u001b[0;34m\u001b[0m\u001b[0;34m\u001b[0m\u001b[0m\n\u001b[0m\u001b[1;32m     10\u001b[0m \u001b[0mplt\u001b[0m\u001b[0;34m.\u001b[0m\u001b[0mplot\u001b[0m\u001b[0;34m(\u001b[0m\u001b[0mx\u001b[0m\u001b[0;34m,\u001b[0m \u001b[0my\u001b[0m\u001b[0;34m,\u001b[0m \u001b[0mlabel\u001b[0m\u001b[0;34m=\u001b[0m\u001b[0;34m'Нормальное распределение'\u001b[0m\u001b[0;34m)\u001b[0m\u001b[0;34m\u001b[0m\u001b[0;34m\u001b[0m\u001b[0m\n\u001b[1;32m     11\u001b[0m \u001b[0;34m\u001b[0m\u001b[0m\n",
            "\u001b[0;31mNameError\u001b[0m: name 'se_difference' is not defined"
          ]
        },
        {
          "output_type": "display_data",
          "data": {
            "text/plain": [
              "<Figure size 1000x600 with 0 Axes>"
            ]
          },
          "metadata": {}
        }
      ]
    },
    {
      "cell_type": "markdown",
      "source": [
        "# ДЗ семинар 7 Непараметрические тесты"
      ],
      "metadata": {
        "id": "5xndzkcdvi2S"
      }
    },
    {
      "cell_type": "markdown",
      "source": [
        "1.Выбрать тест и проверить, есть ли различия между выборками:\n",
        "\n",
        "1 ) Даны две независимые выборки. Не соблюдается условие нормальности x1 380,420, 290 y1 140,360,200,900\n",
        "\n",
        "Сделайте вывод по результатам, полученным с помощью функции"
      ],
      "metadata": {
        "id": "ng2v1UPHzkIa"
      }
    },
    {
      "cell_type": "code",
      "source": [
        "# Тест Манна-Уитни (U-test)\n",
        "import numpy as np\n",
        "from scipy.stats import mannwhitneyu\n",
        "\n",
        "# Функция для выполнения теста Манна-Уитни\n",
        "def mann_whitney_test(sample1, sample2):\n",
        "    # Выполнение U-теста\n",
        "    stat, p_value = mannwhitneyu(sample1, sample2, alternative='two-sided')\n",
        "    # Вывод результатов\n",
        "    print(\"Статистика U-теста:\", stat)\n",
        "    print(\"P-значение:\", p_value)\n",
        "    if p_value < 0.05:\n",
        "        print(\"Вывод: Есть статистически значимые различия между выборками.\")\n",
        "    else:\n",
        "        print(\"Вывод: Статистически значимых различий между выборками нет.\")\n",
        "\n",
        "# Ваши выборки\n",
        "x1 = np.array([380, 420, 290])\n",
        "y1 = np.array([140, 360, 200, 900])\n",
        "\n",
        "# Вызов функции\n",
        "mann_whitney_test(x1, y1)\n"
      ],
      "metadata": {
        "colab": {
          "base_uri": "https://localhost:8080/"
        },
        "id": "YJ9WJCMN37vA",
        "outputId": "424cd494-734c-407e-dc0f-5ac666fe942f"
      },
      "execution_count": 1,
      "outputs": [
        {
          "output_type": "stream",
          "name": "stdout",
          "text": [
            "Статистика U-теста: 8.0\n",
            "P-значение: 0.6285714285714286\n",
            "Вывод: Статистически значимых различий между выборками нет.\n"
          ]
        }
      ]
    },
    {
      "cell_type": "markdown",
      "source": [
        "2. Исследовалось влияние препарата на уровень давления пациентов. Сначала измерялось давление до приема препарата, потом через 10 минут и через 30 минут. Есть ли статистически значимые различия?\n",
        "\n",
        "1е измерение до приема препарата: 150, 160, 165, 145, 155.\n",
        "\n",
        "2е измерение через 10 минут: 140, 155, 150,  130, 135.  \n",
        "3е измерение через 30 минут: 130, 130, 120, 130, 125"
      ],
      "metadata": {
        "id": "pwOIE5IM4Cca"
      }
    },
    {
      "cell_type": "code",
      "source": [
        "# тест Фридмана\n",
        "import numpy as np\n",
        "from scipy.stats import friedmanchisquare\n",
        "\n",
        "# Данные измерений\n",
        "before = np.array([150, 160, 165, 145, 155])\n",
        "after_10_min = np.array([140, 155, 150, 130, 135])\n",
        "after_30_min = np.array([130, 130, 120, 130, 125])\n",
        "\n",
        "# Проведение теста Фридмана\n",
        "stat, p_value = friedmanchisquare(before, after_10_min, after_30_min)\n",
        "\n",
        "# Вывод результатов\n",
        "print(\"Статистика теста Фридмана:\", stat)\n",
        "print(\"P-значение:\", p_value)\n",
        "if p_value < 0.05:\n",
        "    print(\"Вывод: Есть статистически значимые различия между измерениями.\")\n",
        "else:\n",
        "    print(\"Вывод: Статистически значимых различий между измерениями нет.\")\n"
      ],
      "metadata": {
        "colab": {
          "base_uri": "https://localhost:8080/"
        },
        "id": "rzNs73Dv4Lhg",
        "outputId": "6e584341-5c10-40c9-9820-1bb3854ac343"
      },
      "execution_count": 2,
      "outputs": [
        {
          "output_type": "stream",
          "name": "stdout",
          "text": [
            "Статистика теста Фридмана: 9.578947368421062\n",
            "P-значение: 0.00831683351100441\n",
            "Вывод: Есть статистически значимые различия между измерениями.\n"
          ]
        }
      ]
    },
    {
      "cell_type": "markdown",
      "source": [
        "3. Сравните 1 и 2 е измерения, предполагая, что 3го измерения через 30 минут не было."
      ],
      "metadata": {
        "id": "q-0fCMzU4lR1"
      }
    },
    {
      "cell_type": "code",
      "source": [
        "# критерий Уилкоксона\n",
        "import numpy as np\n",
        "from scipy.stats import wilcoxon\n",
        "\n",
        "# Данные измерений\n",
        "before = np.array([150, 160, 165, 145, 155])\n",
        "after_10_min = np.array([140, 155, 150, 130, 135])\n",
        "\n",
        "# Проведение теста Уилкоксона\n",
        "stat, p_value = wilcoxon(before, after_10_min)\n",
        "\n",
        "# Вывод результатов\n",
        "print(\"Статистика теста Уилкоксона:\", stat)\n",
        "print(\"P-значение:\", p_value)\n",
        "if p_value < 0.05:\n",
        "    print(\"Вывод: Есть статистически значимые различия между измерениями.\")\n",
        "else:\n",
        "    print(\"Вывод: Статистически значимых различий между измерениями нет.\")"
      ],
      "metadata": {
        "colab": {
          "base_uri": "https://localhost:8080/"
        },
        "id": "Lyco4aKJ4pk3",
        "outputId": "69a537c2-048d-47fb-e189-1c916a137bd4"
      },
      "execution_count": 3,
      "outputs": [
        {
          "output_type": "stream",
          "name": "stdout",
          "text": [
            "Статистика теста Уилкоксона: 0.0\n",
            "P-значение: 0.0625\n",
            "Вывод: Статистически значимых различий между измерениями нет.\n"
          ]
        }
      ]
    },
    {
      "cell_type": "markdown",
      "source": [
        "4. Даны 3 группы  учеников плавания.\n",
        "\n",
        "В первой группе время на дистанцию 50 м составляют:\n",
        "56, 60, 62, 55, 71, 67, 59, 58, 64, 67\n",
        "\n",
        "Вторая группа : 57, 58, 69, 48, 72, 70, 68, 71, 50, 53\n",
        "\n",
        "Третья группа: 57, 67, 49, 48, 47, 55, 66, 51, 54"
      ],
      "metadata": {
        "id": "zuAG4KZC4uh3"
      }
    },
    {
      "cell_type": "code",
      "source": [
        "# непараметрический тест Крускала-Уоллиса,\n",
        "# который является аналогом однофакторного дисперсионного анализа (ANOVA) для независимых выборок\n",
        "import numpy as np\n",
        "from scipy.stats import kruskal\n",
        "\n",
        "# Данные групп\n",
        "group1 = np.array([56, 60, 62, 55, 71, 67, 59, 58, 64, 67])\n",
        "group2 = np.array([57, 58, 69, 48, 72, 70, 68, 71, 50, 53])\n",
        "group3 = np.array([57, 67, 49, 48, 47, 55, 66, 51, 54])\n",
        "\n",
        "# Проведение теста Крускала-Уоллиса\n",
        "stat, p_value = kruskal(group1, group2, group3)\n",
        "\n",
        "# Вывод результатов\n",
        "print(\"Статистика теста Крускала-Уоллиса:\", stat)\n",
        "print(\"P-значение:\", p_value)\n",
        "if p_value < 0.05:\n",
        "    print(\"Вывод: Есть статистически значимые различия между группами.\")\n",
        "else:\n",
        "    print(\"Вывод: Статистически значимых различий между группами нет.\")\n"
      ],
      "metadata": {
        "colab": {
          "base_uri": "https://localhost:8080/"
        },
        "id": "IZGV7mLS4yn0",
        "outputId": "c4c1a519-5d1d-4b8e-f807-db09d7cd4fdd"
      },
      "execution_count": 4,
      "outputs": [
        {
          "output_type": "stream",
          "name": "stdout",
          "text": [
            "Статистика теста Крускала-Уоллиса: 5.465564058257224\n",
            "P-значение: 0.0650380998590494\n",
            "Вывод: Статистически значимых различий между группами нет.\n"
          ]
        }
      ]
    },
    {
      "cell_type": "markdown",
      "source": [
        "5. Заявляется, что партия изготавливается со средним арифметическим 2,5 см. Проверить данную гипотезу, если известно, что размеры изделий подчинены нормальному закону распределения. Объем выборки 10, уровень статистической значимости 5%\n",
        "\n",
        "2.51, 2.35, 2.74, 2.56, 2.40, 2.36, 2.65, 2.7, 2.67, 2.34"
      ],
      "metadata": {
        "id": "ONtT31lz44CR"
      }
    },
    {
      "cell_type": "markdown",
      "source": [
        "Для проверки гипотезы о среднем значении μ=2.5 см при известном нормальном распределении данных, используется t-тест для одной выборки.\n",
        "\n",
        "H0: μ=2.5 см H1: μ≠2.5 см"
      ],
      "metadata": {
        "id": "H4thZ6tH4_o0"
      }
    },
    {
      "cell_type": "code",
      "source": [
        "# среднее арифметическое\n",
        "import math\n",
        "a = 0.05\n",
        "n = 10\n",
        "mu = 2.5\n",
        "x = (2.51+2.35+2.74+2.56+2.40+2.36+2.65+2.7+2.67+2.34)/10\n",
        "x"
      ],
      "metadata": {
        "colab": {
          "base_uri": "https://localhost:8080/"
        },
        "id": "4yQwxs9h47UN",
        "outputId": "a1ac3cb4-7327-4496-a6bf-9bf1b2b2e29a"
      },
      "execution_count": 5,
      "outputs": [
        {
          "output_type": "execute_result",
          "data": {
            "text/plain": [
              "2.5279999999999996"
            ]
          },
          "metadata": {},
          "execution_count": 5
        }
      ]
    },
    {
      "cell_type": "code",
      "source": [
        "s1 = (2.51 - x) ** 2\n",
        "s1"
      ],
      "metadata": {
        "colab": {
          "base_uri": "https://localhost:8080/"
        },
        "id": "M3OfpGh25IRP",
        "outputId": "88ede736-1967-4fd3-8b88-5a4de9db8e72"
      },
      "execution_count": 6,
      "outputs": [
        {
          "output_type": "execute_result",
          "data": {
            "text/plain": [
              "0.0003239999999999926"
            ]
          },
          "metadata": {},
          "execution_count": 6
        }
      ]
    },
    {
      "cell_type": "code",
      "source": [
        "s2 = (2.35 - x) ** 2\n",
        "s2"
      ],
      "metadata": {
        "colab": {
          "base_uri": "https://localhost:8080/"
        },
        "id": "dV1X0qbx5Jfd",
        "outputId": "2f74be0d-dcb6-44ec-d5f7-3b7e3e8d0a34"
      },
      "execution_count": 7,
      "outputs": [
        {
          "output_type": "execute_result",
          "data": {
            "text/plain": [
              "0.031683999999999816"
            ]
          },
          "metadata": {},
          "execution_count": 7
        }
      ]
    },
    {
      "cell_type": "code",
      "source": [
        "s3 = (2.74 - x) ** 2\n",
        "s3\n"
      ],
      "metadata": {
        "colab": {
          "base_uri": "https://localhost:8080/"
        },
        "id": "ihrPmrX05NBk",
        "outputId": "ed4046f1-cb45-41b7-e33b-5dbe9abba0a3"
      },
      "execution_count": 8,
      "outputs": [
        {
          "output_type": "execute_result",
          "data": {
            "text/plain": [
              "0.04494400000000027"
            ]
          },
          "metadata": {},
          "execution_count": 8
        }
      ]
    },
    {
      "cell_type": "code",
      "source": [
        "s4 = (2.56 - x) ** 2\n",
        "s4\n"
      ],
      "metadata": {
        "colab": {
          "base_uri": "https://localhost:8080/"
        },
        "id": "-PkHKFWd5QCk",
        "outputId": "4773b14c-91c0-4556-c490-247372a96bb5"
      },
      "execution_count": 9,
      "outputs": [
        {
          "output_type": "execute_result",
          "data": {
            "text/plain": [
              "0.0010240000000000303"
            ]
          },
          "metadata": {},
          "execution_count": 9
        }
      ]
    },
    {
      "cell_type": "code",
      "source": [
        "s5 = (2.40 - x) ** 2\n",
        "s5"
      ],
      "metadata": {
        "colab": {
          "base_uri": "https://localhost:8080/"
        },
        "id": "n5o9e-6h5ScB",
        "outputId": "3dc1bad3-fb3c-4dc3-8b05-5e1dcd37b0ef"
      },
      "execution_count": 10,
      "outputs": [
        {
          "output_type": "execute_result",
          "data": {
            "text/plain": [
              "0.016383999999999916"
            ]
          },
          "metadata": {},
          "execution_count": 10
        }
      ]
    },
    {
      "cell_type": "code",
      "source": [
        "s6 = (2.36 - x) ** 2\n",
        "s6"
      ],
      "metadata": {
        "colab": {
          "base_uri": "https://localhost:8080/"
        },
        "id": "HpJfUEBV5Vnt",
        "outputId": "f1282abb-b974-4dea-c2ed-0dfef3e1bb0a"
      },
      "execution_count": 11,
      "outputs": [
        {
          "output_type": "execute_result",
          "data": {
            "text/plain": [
              "0.028223999999999902"
            ]
          },
          "metadata": {},
          "execution_count": 11
        }
      ]
    },
    {
      "cell_type": "code",
      "source": [
        "s7 = (2.65 - x) ** 2\n",
        "s7"
      ],
      "metadata": {
        "colab": {
          "base_uri": "https://localhost:8080/"
        },
        "id": "BvAieex95YWO",
        "outputId": "fad6e7f0-8f15-4690-f243-22b43dc67422"
      },
      "execution_count": 12,
      "outputs": [
        {
          "output_type": "execute_result",
          "data": {
            "text/plain": [
              "0.014884000000000081"
            ]
          },
          "metadata": {},
          "execution_count": 12
        }
      ]
    },
    {
      "cell_type": "code",
      "source": [
        "s8 = (2.7 - x) ** 2\n",
        "s8"
      ],
      "metadata": {
        "colab": {
          "base_uri": "https://localhost:8080/"
        },
        "id": "vso22GKg5bb-",
        "outputId": "3b5968a8-ccf3-45c1-ee73-c9a18443cae5"
      },
      "execution_count": 13,
      "outputs": [
        {
          "output_type": "execute_result",
          "data": {
            "text/plain": [
              "0.029584000000000204"
            ]
          },
          "metadata": {},
          "execution_count": 13
        }
      ]
    },
    {
      "cell_type": "code",
      "source": [
        "s9 = (2.67 - x) ** 2\n",
        "s9"
      ],
      "metadata": {
        "colab": {
          "base_uri": "https://localhost:8080/"
        },
        "id": "hZbSyOnQ5eJ7",
        "outputId": "a6613fb4-3688-4e1c-bbd9-59f2bc559861"
      },
      "execution_count": 14,
      "outputs": [
        {
          "output_type": "execute_result",
          "data": {
            "text/plain": [
              "0.0201640000000001"
            ]
          },
          "metadata": {},
          "execution_count": 14
        }
      ]
    },
    {
      "cell_type": "code",
      "source": [
        "s10 = (2.34 - x) ** 2\n",
        "s10"
      ],
      "metadata": {
        "colab": {
          "base_uri": "https://localhost:8080/"
        },
        "id": "aEM7PPpv5gwJ",
        "outputId": "6cc2f79b-9084-435c-90dd-4ddeb629aef8"
      },
      "execution_count": 15,
      "outputs": [
        {
          "output_type": "execute_result",
          "data": {
            "text/plain": [
              "0.035343999999999896"
            ]
          },
          "metadata": {},
          "execution_count": 15
        }
      ]
    },
    {
      "cell_type": "code",
      "source": [
        "sum_s = s1+s2+s3+s4+s5+s6+s7+s8+s9+s10\n",
        "sum_s"
      ],
      "metadata": {
        "colab": {
          "base_uri": "https://localhost:8080/"
        },
        "id": "F1ImWe5j5lWr",
        "outputId": "c54364b5-a0cf-4162-a8cd-164f6539c623"
      },
      "execution_count": 16,
      "outputs": [
        {
          "output_type": "execute_result",
          "data": {
            "text/plain": [
              "0.2225600000000002"
            ]
          },
          "metadata": {},
          "execution_count": 16
        }
      ]
    },
    {
      "cell_type": "code",
      "source": [
        "# Дисперсия\n",
        "D = sum_s / n\n",
        "D"
      ],
      "metadata": {
        "colab": {
          "base_uri": "https://localhost:8080/"
        },
        "id": "pA-k_GPP5oOc",
        "outputId": "f9f2a0b2-b7f3-47fc-d7d2-2fee9bba41b6"
      },
      "execution_count": 17,
      "outputs": [
        {
          "output_type": "execute_result",
          "data": {
            "text/plain": [
              "0.02225600000000002"
            ]
          },
          "metadata": {},
          "execution_count": 17
        }
      ]
    },
    {
      "cell_type": "code",
      "source": [
        "std = math.sqrt(D)\n",
        "std"
      ],
      "metadata": {
        "colab": {
          "base_uri": "https://localhost:8080/"
        },
        "id": "EPC17w7H5pek",
        "outputId": "175195ff-150d-46bc-89a0-38c9906919e2"
      },
      "execution_count": 18,
      "outputs": [
        {
          "output_type": "execute_result",
          "data": {
            "text/plain": [
              "0.14918444959177218"
            ]
          },
          "metadata": {},
          "execution_count": 18
        }
      ]
    },
    {
      "cell_type": "code",
      "source": [
        "t = (x-mu)/sum_s * math.sqrt(n)\n",
        "t"
      ],
      "metadata": {
        "colab": {
          "base_uri": "https://localhost:8080/"
        },
        "id": "EpVETMPP5sxa",
        "outputId": "aa5184b7-a026-44cc-c60a-8a534b4be271"
      },
      "execution_count": 19,
      "outputs": [
        {
          "output_type": "execute_result",
          "data": {
            "text/plain": [
              "0.397842264938503"
            ]
          },
          "metadata": {},
          "execution_count": 19
        }
      ]
    },
    {
      "cell_type": "code",
      "source": [
        "df = (n-1)\n",
        "df"
      ],
      "metadata": {
        "colab": {
          "base_uri": "https://localhost:8080/"
        },
        "id": "gLE_oSIt5vj9",
        "outputId": "78bf9a38-732a-4182-bb62-398e4d1a8c9f"
      },
      "execution_count": 20,
      "outputs": [
        {
          "output_type": "execute_result",
          "data": {
            "text/plain": [
              "9"
            ]
          },
          "metadata": {},
          "execution_count": 20
        }
      ]
    },
    {
      "cell_type": "markdown",
      "source": [
        "Поскольку ∣t∣=0.561 меньше критического значения 2.262, мы не можем отвергнуть нулевую гипотезу. Вывод: Нет оснований утверждать, что среднее значение размеров изделий отличается от 2.5 см на уровне значимости 5%. Таким образом, гипотеза H0 не отвергается."
      ],
      "metadata": {
        "id": "ZLDYWuwk5FIU"
      }
    },
    {
      "cell_type": "markdown",
      "source": [
        "# ДЗ семинар 8 Корреляционный анализ"
      ],
      "metadata": {
        "id": "nt3IInHJ8Rql"
      }
    },
    {
      "cell_type": "markdown",
      "source": [
        "1. Даны значения величины заработной платы заемщиков банка (zp) и значения их поведенческого кредитного скоринга (ks): zp = [35, 45, 190, 200, 40, 70, 54, 150, 120, 110], ks = [401, 574, 874, 919, 459, 739, 653, 902, 746, 832]. Найдите ковариацию этих двух величин с помощью элементарных действий, а затем с помощью функции cov из numpy Полученные значения должны быть равны. Найдите коэффициент корреляции Пирсона с помощью ковариации и среднеквадратичных отклонений двух признаков, а затем с использованием функций из библиотек numpy и pandas."
      ],
      "metadata": {
        "id": "iGdcEGff8fk6"
      }
    },
    {
      "cell_type": "code",
      "source": [
        "import numpy as np\n",
        "import pandas as pd\n",
        "\n",
        "# Данные\n",
        "zp = np.array([35, 45, 190, 200, 40, 70, 54, 150, 120, 110])\n",
        "ks = np.array([401, 574, 874, 919, 459, 739, 653, 902, 746, 832])\n",
        "\n",
        "# Средние значения\n",
        "mean_zp = np.mean(zp)\n",
        "mean_ks = np.mean(ks)\n",
        "\n",
        "# Вычисление ковариации вручную\n",
        "cov_manual = np.sum((zp - mean_zp) * (ks - mean_ks)) / (len(zp) - 1)\n",
        "\n",
        "# Вычисление ковариации с использованием numpy\n",
        "cov_matrix = np.cov(zp, ks)\n",
        "cov_np = cov_matrix[0, 1]\n",
        "\n",
        "# Стандартные отклонения\n",
        "std_zp = np.std(zp, ddof=1)\n",
        "std_ks = np.std(ks, ddof=1)\n",
        "\n",
        "# Коэффициент корреляции Пирсона вручную\n",
        "r_manual = cov_manual / (std_zp * std_ks)\n",
        "\n",
        "# Коэффициент корреляции Пирсона с использованием numpy\n",
        "r_np = np.corrcoef(zp, ks)[0, 1]\n",
        "\n",
        "# Коэффициент корреляции Пирсона с использованием pandas\n",
        "r_pd = pd.Series(zp).corr(pd.Series(ks))\n",
        "\n",
        "# Вывод результатов\n",
        "print(\"Ковариация вручную:\", cov_manual)\n",
        "print(\"Ковариация с использованием numpy:\", cov_np)\n",
        "print(\"Коэффициент корреляции Пирсона вручную:\", r_manual)\n",
        "print(\"Коэффициент корреляции Пирсона с использованием numpy:\", r_np)\n",
        "print(\"Коэффициент корреляции Пирсона с использованием pandas:\", r_pd)\n"
      ],
      "metadata": {
        "colab": {
          "base_uri": "https://localhost:8080/"
        },
        "id": "TZISQqX08j4a",
        "outputId": "2ed2c330-54fc-4b4e-89da-68d09ead729a"
      },
      "execution_count": 21,
      "outputs": [
        {
          "output_type": "stream",
          "name": "stdout",
          "text": [
            "Ковариация вручную: 10175.37777777778\n",
            "Ковариация с использованием numpy: 10175.377777777776\n",
            "Коэффициент корреляции Пирсона вручную: 0.8874900920739164\n",
            "Коэффициент корреляции Пирсона с использованием numpy: 0.8874900920739162\n",
            "Коэффициент корреляции Пирсона с использованием pandas: 0.8874900920739162\n"
          ]
        }
      ]
    },
    {
      "cell_type": "markdown",
      "source": [
        "2. Измерены значения IQ выборки студентов, обучающихся в местных технических вузах: 131, 125, 115, 122, 131, 115, 107, 99, 125, 111. Известно, что в генеральной совокупности IQ распределен нормально. Найдите доверительный интервал для математического ожидания с надежностью 0.95."
      ],
      "metadata": {
        "id": "ia0x8e-p8ptk"
      }
    },
    {
      "cell_type": "code",
      "source": [
        "import numpy as np\n",
        "import scipy.stats as stats\n",
        "\n",
        "# Данные\n",
        "iq_scores = np.array([131, 125, 115, 122, 131, 115, 107, 99, 125, 111])\n",
        "\n",
        "# Параметры выборки\n",
        "n = len(iq_scores)\n",
        "mean_iq = np.mean(iq_scores)\n",
        "std_iq = np.std(iq_scores, ddof=1)\n",
        "\n",
        "# Уровень значимости\n",
        "alpha = 0.05\n",
        "\n",
        "# Значение t для уровня значимости 0.05 и степени свободы n-1\n",
        "t_value = stats.t.ppf(1 - alpha/2, df=n-1)\n",
        "\n",
        "# Доверительный интервал\n",
        "margin_of_error = t_value * std_iq / np.sqrt(n)\n",
        "confidence_interval = (mean_iq - margin_of_error, mean_iq + margin_of_error)"
      ],
      "metadata": {
        "id": "GTdhQ22q8tdm"
      },
      "execution_count": 23,
      "outputs": []
    },
    {
      "cell_type": "code",
      "source": [
        "mean_iq"
      ],
      "metadata": {
        "colab": {
          "base_uri": "https://localhost:8080/"
        },
        "id": "NEXjeu6P82_H",
        "outputId": "8ac0403d-24a3-45b1-eaad-c3d96ab85953"
      },
      "execution_count": 24,
      "outputs": [
        {
          "output_type": "execute_result",
          "data": {
            "text/plain": [
              "118.1"
            ]
          },
          "metadata": {},
          "execution_count": 24
        }
      ]
    },
    {
      "cell_type": "code",
      "source": [
        "std_iq"
      ],
      "metadata": {
        "colab": {
          "base_uri": "https://localhost:8080/"
        },
        "id": "0oSujXzt84mR",
        "outputId": "2e36d6ad-6d0c-4df5-b7fd-4c31ffcf3a11"
      },
      "execution_count": 25,
      "outputs": [
        {
          "output_type": "execute_result",
          "data": {
            "text/plain": [
              "10.54566788359614"
            ]
          },
          "metadata": {},
          "execution_count": 25
        }
      ]
    },
    {
      "cell_type": "code",
      "source": [
        "t_value"
      ],
      "metadata": {
        "colab": {
          "base_uri": "https://localhost:8080/"
        },
        "id": "XD9GjBhi89oJ",
        "outputId": "5a5bcb54-b626-468f-b8a4-228855168a6f"
      },
      "execution_count": 26,
      "outputs": [
        {
          "output_type": "execute_result",
          "data": {
            "text/plain": [
              "2.2621571627409915"
            ]
          },
          "metadata": {},
          "execution_count": 26
        }
      ]
    },
    {
      "cell_type": "code",
      "source": [
        "confidence_interval"
      ],
      "metadata": {
        "colab": {
          "base_uri": "https://localhost:8080/"
        },
        "id": "rO0c_sdL9B9v",
        "outputId": "f6c94483-ff99-4832-d223-7b7e1a2102fb"
      },
      "execution_count": 27,
      "outputs": [
        {
          "output_type": "execute_result",
          "data": {
            "text/plain": [
              "(110.55608365158724, 125.64391634841274)"
            ]
          },
          "metadata": {},
          "execution_count": 27
        }
      ]
    },
    {
      "cell_type": "markdown",
      "source": [
        "3. Известно, что рост футболистов в сборной распределен нормально с дисперсией генеральной совокупности, равной 25 кв.см. Объем выборки равен 27, среднее выборочное составляет 174.2. Найдите доверительный интервал для математического ожидания с надежностью 0.95."
      ],
      "metadata": {
        "id": "B-JDKoc09Eyv"
      }
    },
    {
      "cell_type": "code",
      "source": [
        "import numpy as np\n",
        "import scipy.stats as stats\n",
        "\n",
        "# Данные\n",
        "mean_sample = 174.2\n",
        "variance_population = 25\n",
        "n = 27\n",
        "sigma = np.sqrt(variance_population)\n",
        "\n",
        "# Уровень значимости\n",
        "alpha = 0.05\n",
        "\n",
        "# Значение z для уровня значимости 0.05\n",
        "z_value = stats.norm.ppf(1 - alpha/2)\n",
        "\n",
        "# Доверительный интервал\n",
        "margin_of_error = z_value * sigma / np.sqrt(n)\n",
        "confidence_interval = (mean_sample - margin_of_error, mean_sample + margin_of_error)"
      ],
      "metadata": {
        "id": "JGjJD2p89IM6"
      },
      "execution_count": 28,
      "outputs": []
    },
    {
      "cell_type": "code",
      "source": [
        "mean_sample"
      ],
      "metadata": {
        "colab": {
          "base_uri": "https://localhost:8080/"
        },
        "id": "qFLIsCNQ9Okc",
        "outputId": "14956fd9-76e2-454e-c1a7-7e2e9f7c4b0a"
      },
      "execution_count": 29,
      "outputs": [
        {
          "output_type": "execute_result",
          "data": {
            "text/plain": [
              "174.2"
            ]
          },
          "metadata": {},
          "execution_count": 29
        }
      ]
    },
    {
      "cell_type": "code",
      "source": [
        "sigma"
      ],
      "metadata": {
        "colab": {
          "base_uri": "https://localhost:8080/"
        },
        "id": "IVe4B92Q9Q7f",
        "outputId": "fc39af26-3004-40eb-8f74-60b05ed9c210"
      },
      "execution_count": 30,
      "outputs": [
        {
          "output_type": "execute_result",
          "data": {
            "text/plain": [
              "5.0"
            ]
          },
          "metadata": {},
          "execution_count": 30
        }
      ]
    },
    {
      "cell_type": "code",
      "source": [
        "z_value"
      ],
      "metadata": {
        "colab": {
          "base_uri": "https://localhost:8080/"
        },
        "id": "vFTbP4Ud9Ts-",
        "outputId": "76bfe7a5-384d-4727-b9b6-0c59d6e0f648"
      },
      "execution_count": 31,
      "outputs": [
        {
          "output_type": "execute_result",
          "data": {
            "text/plain": [
              "1.959963984540054"
            ]
          },
          "metadata": {},
          "execution_count": 31
        }
      ]
    },
    {
      "cell_type": "code",
      "source": [
        "confidence_interval"
      ],
      "metadata": {
        "colab": {
          "base_uri": "https://localhost:8080/"
        },
        "id": "I_ENMJlt9X6r",
        "outputId": "f9123518-a8ee-4cb0-d23c-1b07cae22be8"
      },
      "execution_count": 32,
      "outputs": [
        {
          "output_type": "execute_result",
          "data": {
            "text/plain": [
              "(172.3140237765397, 176.08597622346028)"
            ]
          },
          "metadata": {},
          "execution_count": 32
        }
      ]
    },
    {
      "cell_type": "markdown",
      "source": [
        "# ДЗ семинар 9 Линейная регрессия Логистическая регрессия"
      ],
      "metadata": {
        "id": "XSvvf4Ud95_D"
      }
    },
    {
      "cell_type": "markdown",
      "source": [
        "1. Даны значения величины заработной платы заемщиков банка (zp) и значения их поведенческого кредитного скоринга (ks): zp = [35, 45, 190, 200, 40, 70, 54, 150, 120, 110], ks = [401, 574, 874, 919, 459, 739, 653, 902, 746, 832]. Используя математические операции, посчитать коэффициенты линейной регрессии, приняв за X заработную плату (то есть, zp - признак), а за y - значения скорингового балла (то есть, ks - целевая переменная). Произвести расчет как с использованием intercept, так и без."
      ],
      "metadata": {
        "id": "swy4elBy-Ft3"
      }
    },
    {
      "cell_type": "code",
      "source": [
        "# Линейная регрессия с использованием intercept (с использованием библиотеки)\n",
        "import numpy as np\n",
        "import scipy.stats as stats\n",
        "\n",
        "zp = np.array([35, 45, 190, 200, 40, 70, 54, 150, 120, 110])\n",
        "ks = np.array([401, 574, 874, 919, 459, 739, 653, 902, 746, 832])\n",
        "\n",
        "# Вычисление коэффициентов линейной регрессии\n",
        "slope, intercept, r_value, p_value, std_err = stats.linregress(zp, ks)\n",
        "\n",
        "print(f\"Коэффициент наклона (slope): {slope}\")\n",
        "print(f\"Пересечение (intercept): {intercept}\")"
      ],
      "metadata": {
        "colab": {
          "base_uri": "https://localhost:8080/"
        },
        "id": "N8eK42or-Epi",
        "outputId": "1bb851e4-7a45-4e17-81e9-f0938a7c26af"
      },
      "execution_count": 33,
      "outputs": [
        {
          "output_type": "stream",
          "name": "stdout",
          "text": [
            "Коэффициент наклона (slope): 2.6205388824027653\n",
            "Пересечение (intercept): 444.17735732435955\n"
          ]
        }
      ]
    },
    {
      "cell_type": "markdown",
      "source": [
        "2. Посчитать коэффициент линейной регрессии при заработной плате (zp), используя градиентный спуск (без intercept)."
      ],
      "metadata": {
        "id": "812vfJTe-WvI"
      }
    },
    {
      "cell_type": "code",
      "source": [
        "# Без intercept\n",
        "slope = np.sum((zp - np.mean(zp)) * (ks - np.mean(ks))) / np.sum((zp - np.mean(zp))**2)\n",
        "print(f\"Коэффициент наклона без intercept (slope): {slope}\")"
      ],
      "metadata": {
        "colab": {
          "base_uri": "https://localhost:8080/"
        },
        "id": "8CPz67_M-QhE",
        "outputId": "31f8e17d-751d-4c8b-a15f-3933488024f7"
      },
      "execution_count": 34,
      "outputs": [
        {
          "output_type": "stream",
          "name": "stdout",
          "text": [
            "Коэффициент наклона без intercept (slope): 2.6205388824027653\n"
          ]
        }
      ]
    },
    {
      "cell_type": "markdown",
      "source": [
        "3. Произвести вычисления как в пункте 2, но с вычислением intercept. Учесть, что изменение коэффициентов должно производиться на каждом шаге одновременно (то есть изменение одного коэффициента не должно влиять на изменение другого во время одной итерации)."
      ],
      "metadata": {
        "id": "p_4Dq56--i7f"
      }
    },
    {
      "cell_type": "code",
      "source": [
        "#import numpy as np\n",
        "\n",
        "zp = np.array([35, 45, 190, 200, 40, 70, 54, 150, 120, 110])\n",
        "ks = np.array([401, 574, 874, 919, 459, 739, 653, 902, 746, 832])\n",
        "\n",
        "# Инициализация коэффициента\n",
        "b = 0\n",
        "learning_rate = 0.0001\n",
        "n = len(zp)\n",
        "num_iterations = 1000\n",
        "\n",
        "# Градиентный спуск\n",
        "for _ in range(num_iterations):\n",
        "    b_gradient = (-2/n) * np.sum(zp * (ks - b * zp))\n",
        "    b = b - learning_rate * b_gradient\n",
        "\n",
        "print(f\"Коэффициент наклона (slope) с использованием градиентного спуска без intercept: {b}\")\n"
      ],
      "metadata": {
        "colab": {
          "base_uri": "https://localhost:8080/"
        },
        "id": "osSt4_Np-rbr",
        "outputId": "e930af92-6051-489c-8594-7b76f37ffd7e"
      },
      "execution_count": 35,
      "outputs": [
        {
          "output_type": "stream",
          "name": "stdout",
          "text": [
            "Коэффициент наклона (slope) с использованием градиентного спуска без intercept: -1.3378370976517671e+245\n"
          ]
        }
      ]
    },
    {
      "cell_type": "code",
      "source": [
        "# Инициализация коэффициентов\n",
        "b0 = 0\n",
        "b1 = 0\n",
        "learning_rate = 0.0001\n",
        "n = len(zp)\n",
        "num_iterations = 1000\n",
        "\n",
        "# Градиентный спуск\n",
        "for _ in range(num_iterations):\n",
        "    y_pred = b0 + b1 * zp\n",
        "    b0_gradient = (-2/n) * np.sum(ks - y_pred)\n",
        "    b1_gradient = (-2/n) * np.sum(zp * (ks - y_pred))\n",
        "    b0 = b0 - learning_rate * b0_gradient\n",
        "    b1 = b1 - learning_rate * b1_gradient\n",
        "\n",
        "print(f\"Пересечение (intercept) с использованием градиентного спуска: {b0}\")\n",
        "print(f\"Коэффициент наклона (slope) с использованием градиентного спуска: {b1}\")\n"
      ],
      "metadata": {
        "colab": {
          "base_uri": "https://localhost:8080/"
        },
        "id": "qt8IvAou-_hg",
        "outputId": "221aa555-9370-4bd0-e53f-1b4e1a71b5e6"
      },
      "execution_count": 36,
      "outputs": [
        {
          "output_type": "stream",
          "name": "stdout",
          "text": [
            "Пересечение (intercept) с использованием градиентного спуска: -1.0720578600058548e+243\n",
            "Коэффициент наклона (slope) с использованием градиентного спуска: -1.4565128585234505e+245\n"
          ]
        }
      ]
    }
  ]
}